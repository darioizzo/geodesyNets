{
 "cells": [
  {
   "cell_type": "markdown",
   "metadata": {},
   "source": [
    "# Visualization\n",
    "This notebooks serves to visualize results of an individual run in detail."
   ]
  },
  {
   "cell_type": "code",
   "execution_count": null,
   "metadata": {},
   "outputs": [],
   "source": [
    "# core stuff\n",
    "import gravann,os\n",
    "import numpy as np\n",
    "import pickle as pk\n",
    "from tqdm import tqdm\n",
    "import torch\n",
    "\n",
    "# For animation etc.\n",
    "from IPython.core.interactiveshell import InteractiveShell\n",
    "InteractiveShell.ast_node_interactivity = \"all\"\n",
    "from IPython import display\n",
    "import matplotlib.pyplot as plt\n",
    "import imageio\n",
    "\n",
    "# Ensure that changes in imported module (gravann most importantly) are autoreloaded\n",
    "%load_ext autoreload\n",
    "%autoreload 2\n",
    "\n",
    "# If possible enable CUDA\n",
    "gravann.enableCUDA()\n",
    "gravann.fixRandomSeeds()\n",
    "device = os.environ[\"TORCH_DEVICE\"]\n",
    "print(\"Will use device \",device)"
   ]
  },
  {
   "cell_type": "markdown",
   "metadata": {},
   "source": [
    "# Define the run folder"
   ]
  },
  {
   "cell_type": "code",
   "execution_count": null,
   "metadata": {},
   "outputs": [],
   "source": [
    "results_folder = \"results/siren_all_runs_ACC_siren_diff_train\\Hollow.pk\\LR=0.0001_loss=normalized_L1_loss_encoding=direct_encoding_batch_size=1000_target_sample=spherical_activation=Tanh_omega=3e+01/\"\n",
    "differential_training = True\n",
    "\n",
    "model, encoding, sample, c, use_acc, mascon_points, mascon_masses_u, mascon_masses_nu, cfg = gravann.load_model_run(\n",
    "        results_folder, differential_training)\n",
    "\n",
    "torch.cuda.empty_cache()\n"
   ]
  },
  {
   "cell_type": "code",
   "execution_count": null,
   "metadata": {},
   "outputs": [],
   "source": [
    "import pyvista as pv\n",
    "with open(\"3dmeshes/\"+sample, \"rb\") as file:\n",
    "    verts,triangles = pk.load(file)\n",
    "    faces = [[3, t[0], t[1], t[2]] for t in triangles]\n",
    "\n",
    "    # Create PV Polydata\n",
    "    mesh = pv.PolyData(np.asarray(verts), np.asarray(faces))\n",
    "volume = mesh.volume\n",
    "if sample == \"Hollow.pk\": #subtract the sphere inside\n",
    "    volume = volume - 0.37465678565\n",
    "print(\"Volume=\",volume)"
   ]
  },
  {
   "cell_type": "code",
   "execution_count": null,
   "metadata": {},
   "outputs": [],
   "source": [
    "pv.set_plot_theme(\"document\")\n",
    "v = np.array(verts)\n",
    "\n",
    "#Itokawa\n",
    "# mask = (v[:, 0] - 0.5*v[:, 2]) + (np.random.random((len(verts), ))*2-1)*1e-1 > 0.4 \n",
    "# mask = (v[:, 0] - 0.5*v[:, 2]) > 0.4 \n",
    "\n",
    "#Bennu\n",
    "# mask = np.logical_or(v[:,2]+(np.random.random((len(verts), ))*2-1)*1e-1 > 0.25,  v[:,2] + (np.random.random((len(verts), ))*2-1)*1e-1 < -0.25)\n",
    "# mask = np.logical_or(v[:,2] > 0.25,  v[:,2] < -0.25)\n",
    "\n",
    "#Hollow\n",
    "sphere = pv.Sphere(radius=0.4472,center=(0.2,0,0))\n",
    "submesh = mesh.copy()\n",
    "cell_center = mesh.cell_centers().points\n",
    "mask2 =  np.logical_or(cell_center[:,1] > -0.25, cell_center[:,0] > 0.25)\n",
    "mask3 =  np.logical_and(cell_center[:,1] < -0.25, cell_center[:,0] < 0.25)\n",
    "cell_ind = mask2.nonzero()[0]\n",
    "mesh = mesh.extract_cells(cell_ind)\n",
    "cell_ind = mask3.nonzero()[0]\n",
    "submesh = submesh.extract_cells(cell_ind)\n",
    "mask = [1]*sum(mask2)\n",
    "\n",
    "mesh[\"Density\"] = mask"
   ]
  },
  {
   "cell_type": "code",
   "execution_count": null,
   "metadata": {},
   "outputs": [],
   "source": [
    "# import pyvistaqt as pvqt\n",
    "# p = pvqt.BackgroundPlotter()\n",
    "p = pv.Plotter(notebook=True)\n",
    "p.show_axes()\n",
    "# Controlling the text properties\n",
    "sargs = dict(\n",
    "    title_font_size=20,\n",
    "    label_font_size=16,\n",
    "    shadow=True,\n",
    "    n_labels=0,\n",
    "    italic=True,\n",
    "    fmt=\"%.1f\",\n",
    "    font_family=\"arial\",\n",
    ")\n",
    "\n",
    "if sample != \"Hollow.pk\":\n",
    "    p.add_mesh(mesh,scalars=\"Density\",cmap=[\"lightgrey\",\"gray\"],lighting=True, smooth_shading=False,\n",
    "               show_scalar_bar=True,scalar_bar_args=sargs,\n",
    "               annotations={0: \"                  Hollow\", 1: \"Uniform\"})\n",
    "if sample == \"Hollow.pk\":\n",
    "    p.add_mesh(mesh,color=\"gray\",lighting=True, smooth_shading=False)\n",
    "    p.add_mesh(sphere,color=\"lightgrey\",lighting=True, smooth_shading=True)\n",
    "    p.add_mesh(submesh,\"lightgrey\",\"wireframe\")\n",
    "p.camera_position = [(0,-4,0), (0,0,0,), (0,0,1)]\n",
    "p.camera_set = True\n",
    "\n",
    "# light = pv.Light()\n",
    "# light.set_direction_angle(30, 0)\n",
    "# p.add_light(light)\n",
    "p.show(screenshot=\"figures/\"+sample+\"_nu.png\", window_size=[800,800])"
   ]
  },
  {
   "cell_type": "code",
   "execution_count": null,
   "metadata": {},
   "outputs": [],
   "source": [
    "gravann.plot_model_vs_mascon_contours(model,encoding,mascon_points,mascon_masses_u,c=c,heatmap=True,save_path=\"figures/\"+sample+\".png\",mascon_alpha=0.175);"
   ]
  },
  {
   "cell_type": "code",
   "execution_count": null,
   "metadata": {},
   "outputs": [],
   "source": [
    "#differential\n",
    "gravann.plot_model_vs_mascon_contours(model,encoding,mascon_points,mascon_masses_u,c=c,\n",
    "                                      heatmap=True,save_path=\"figures/\"+sample+\".png\",\n",
    "                                      mascon_alpha=0.175,add_shape_base_value=\"3dmeshes/\"+sample,\n",
    "                                      add_const_density=1./volume);"
   ]
  },
  {
   "cell_type": "code",
   "execution_count": null,
   "metadata": {},
   "outputs": [],
   "source": [
    "gravann.plot_model_mascon_acceleration(\"3dmeshes/\"+sample,model,encoding,mascon_points,mascon_masses_u,plane=\"XY\", altitude=0.05,N=5000,c=c,logscale=True);\n",
    "gravann.plot_model_mascon_acceleration(\"3dmeshes/\"+sample,model,encoding,mascon_points,mascon_masses_u,plane=\"XZ\", altitude=0.05,N=5000,c=c,logscale=True);\n",
    "gravann.plot_model_mascon_acceleration(\"3dmeshes/\"+sample,model,encoding,mascon_points,mascon_masses_u,plane=\"YZ\", altitude=0.05,N=5000,c=c,logscale=True);"
   ]
  },
  {
   "cell_type": "code",
   "execution_count": null,
   "metadata": {},
   "outputs": [],
   "source": [
    "mascon_alpha = 0\n",
    "images = []\n",
    "for offset in tqdm(np.linspace(-0.75,0.75,10)):\n",
    "    fig = gravann.plot_model_vs_mascon_contours(model,encoding,mascon_points,mascon_masses,c=c,offset=offset,heatmap=True,mascon_alpha=mascon_alpha);\n",
    "    fig.canvas.draw();\n",
    "    image = np.frombuffer(fig.canvas.tostring_rgb(), dtype='uint8')\n",
    "    image = image.reshape(fig.canvas.get_width_height()[::-1] + (3,))\n",
    "    images.append(image)\n",
    "    plt.close(\"all\")"
   ]
  },
  {
   "cell_type": "code",
   "execution_count": null,
   "metadata": {},
   "outputs": [],
   "source": [
    "gifPath = \"gifs/contourf.gif\"\n",
    "imageio.mimsave(gifPath, images)"
   ]
  },
  {
   "cell_type": "code",
   "execution_count": null,
   "metadata": {},
   "outputs": [],
   "source": [
    "# Display GIF in Jupyter, CoLab, IPython\n",
    "with open(gifPath,'rb') as f:\n",
    "    display.Image(data=f.read(), format='png')"
   ]
  }
 ],
 "metadata": {
  "kernelspec": {
   "display_name": "Python 3",
   "language": "python",
   "name": "python3"
  },
  "language_info": {
   "codemirror_mode": {
    "name": "ipython",
    "version": 3
   },
   "file_extension": ".py",
   "mimetype": "text/x-python",
   "name": "python",
   "nbconvert_exporter": "python",
   "pygments_lexer": "ipython3",
   "version": "3.8.5"
  }
 },
 "nbformat": 4,
 "nbformat_minor": 4
}
