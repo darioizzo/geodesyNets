{
 "cells": [
  {
   "cell_type": "code",
   "execution_count": null,
   "metadata": {},
   "outputs": [],
   "source": [
    "# core stuff\n",
    "import pandas as pd\n",
    "import pickle as pk\n",
    "\n",
    "import gravann\n",
    "\n",
    "# Ensure that changes in imported module (gravann most importantly) are autoreloaded\n",
    "%load_ext autoreload\n",
    "%autoreload 2"
   ]
  },
  {
   "cell_type": "code",
   "execution_count": null,
   "metadata": {},
   "outputs": [],
   "source": [
    "import glob\n",
    "import pyvista as pv\n",
    "import numpy as np"
   ]
  },
  {
   "cell_type": "code",
   "execution_count": null,
   "metadata": {},
   "outputs": [],
   "source": [
    "bodies = [\"Bennu.pk\",\"Bennu_nu.pk\",\"Churyumov-Gerasimenko.pk\",\n",
    "          \"Eros.pk\",\"Hollow2.pk\",\"Hollow2_nu.pk\",\"Itokawa.pk\",\n",
    "          \"Itokawa_nu.pk\",\"Torus.pk\"]"
   ]
  },
  {
   "cell_type": "code",
   "execution_count": null,
   "metadata": {},
   "outputs": [],
   "source": [
    "body_data = pd.DataFrame()\n",
    "\n",
    "for body in bodies:\n",
    "    print(\"Processing \", body)\n",
    "    mesh = \"3dmeshes/\" + body\n",
    "    lp_mesh = \"3dmeshes/\" + body.split(\".\")[0] + \"_lp.pk\"\n",
    "    mascon = \"mascons/\" + body\n",
    "    \n",
    "    # Load mascon\n",
    "    points,mascons,_ = gravann.load_sample(body)\n",
    "    \n",
    "    \n",
    "    # Load HQ mesh\n",
    "    with open(mesh, \"rb\") as file:\n",
    "        mesh_vertices, _ = pk.load(file)\n",
    "    \n",
    "    #Load Low poly mesh\n",
    "    with open(lp_mesh, \"rb\") as file:\n",
    "        mesh_vertice_lp, _ = pk.load(file)\n",
    "    \n",
    "    bd_row = {\n",
    "        \"Body\" : body.split(\".pk\")[0],\n",
    "        \"# of vertices\": len(mesh_vertices),\n",
    "        \"# of vertices (low-poly)\": len(mesh_vertice_lp),\n",
    "        \"Mascons\": len(mascons)\n",
    "    }\n",
    "    \n",
    "    body_data = body_data.append(bd_row,ignore_index=True)\n",
    "    \n",
    "body_data"
   ]
  },
  {
   "cell_type": "code",
   "execution_count": null,
   "metadata": {},
   "outputs": [],
   "source": [
    "body_data = body_data[[\"Body\",\n",
    "        \"# of vertices\",\n",
    "        \"# of vertices (low-poly)\",\n",
    "        \"Mascons\"]]"
   ]
  },
  {
   "cell_type": "code",
   "execution_count": null,
   "metadata": {},
   "outputs": [],
   "source": [
    "print(body_data.to_string(index=False))"
   ]
  }
 ],
 "metadata": {
  "kernelspec": {
   "display_name": "Python 3",
   "language": "python",
   "name": "python3"
  },
  "language_info": {
   "codemirror_mode": {
    "name": "ipython",
    "version": 3
   },
   "file_extension": ".py",
   "mimetype": "text/x-python",
   "name": "python",
   "nbconvert_exporter": "python",
   "pygments_lexer": "ipython3",
   "version": "3.8.5"
  }
 },
 "nbformat": 4,
 "nbformat_minor": 4
}
