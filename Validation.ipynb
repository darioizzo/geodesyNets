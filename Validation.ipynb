{
 "cells": [
  {
   "cell_type": "code",
   "execution_count": null,
   "metadata": {},
   "outputs": [],
   "source": [
    "# core stuff\n",
    "import gravann,os,glob\n",
    "import pandas as pd\n",
    "import numpy as np\n",
    "\n",
    "# Ensure that changes in imported module (gravann most importantly) are autoreloaded\n",
    "%load_ext autoreload\n",
    "%autoreload 2\n",
    "\n",
    "# If possible enable CUDA\n",
    "gravann.enableCUDA()\n",
    "gravann.fixRandomSeeds()\n",
    "device = os.environ[\"TORCH_DEVICE\"]\n",
    "print(\"Will use device \",device)"
   ]
  },
  {
   "cell_type": "markdown",
   "metadata": {},
   "source": [
    "### Dimension conversion terms for computing altitudes"
   ]
  },
  {
   "cell_type": "code",
   "execution_count": null,
   "metadata": {},
   "outputs": [],
   "source": [
    "sampling_altitudes = np.asarray([0.05,0.1,0.25])\n",
    "sample_altitude_constant = {\n",
    "    \"Bennu.pk\" : 0.5 * 0.5634379088878632 / 0.3521486930549145,\n",
    "    \"Churyumov-Gerasimenko.pk\" : 0.5 * 5.0025703125 / 3.1266064453124995,\n",
    "    \"Eros.pk\" : 0.5 * 32.66218376159668 / 20.413864850997925,\n",
    "    \"Itokawa.pk\" : 0.5 * 0.5607019066810608 / 0.350438691675663,\n",
    "}\n",
    "sample_altitude_constant"
   ]
  },
  {
   "cell_type": "markdown",
   "metadata": {},
   "source": [
    "### Find models to validate from root folder"
   ]
  },
  {
   "cell_type": "code",
   "execution_count": null,
   "metadata": {
    "scrolled": true
   },
   "outputs": [],
   "source": [
    "root_folder = \"results/Test/\"\n",
    "\n",
    "# Find present models\n",
    "root_folder = root_folder.replace(\"\\\\\", \"/\")\n",
    "model_files = glob.glob(root_folder + \"/**/best_model.mdl\", recursive=True)\n",
    "folders = [model_file.split(\"best_model.mdl\")[0] for model_file in model_files]\n",
    "print(\"Found the following:\")\n",
    "[print(folder) for folder in folders];"
   ]
  },
  {
   "cell_type": "markdown",
   "metadata": {},
   "source": [
    "### Run validation for all models with asteroid-specific altitudes"
   ]
  },
  {
   "cell_type": "code",
   "execution_count": null,
   "metadata": {
    "scrolled": false
   },
   "outputs": [],
   "source": [
    "results_df = pd.DataFrame()\n",
    "for folder in folders:\n",
    "    # Load run\n",
    "    model, encoding, sample, c, use_acc, mascon_points, mascon_masses_u, mascon_masses_nu,cfg = gravann.load_model_run(folder)\n",
    "    \n",
    "    # Validate\n",
    "    validation_results = gravann.validation(\n",
    "        model, encoding, mascon_points, mascon_masses_u, use_acc, \"3dmeshes/\"+sample,\n",
    "        sampling_altitudes = sample_altitude_constant[sample] * sampling_altitudes,\n",
    "        N_integration = 500000, \n",
    "        N = 10000,\n",
    "        russell_points = 50,\n",
    "        mascon_masses_nu = mascon_masses_nu\n",
    "        \n",
    "    )\n",
    "    \n",
    "    # Compute validation results\n",
    "    val_res = gravann.validation_results_unpack_df(validation_results)\n",
    "    \n",
    "    # Accumulate results\n",
    "    result_dictionary = {\"Sample\": sample,\n",
    "                         \"Loss\": cfg[\"Loss\"],\n",
    "                        \"Altitudes\": sample_altitude_constant[sample] * sampling_altitudes}\n",
    "    \n",
    "    run_results = pd.concat(\n",
    "        [pd.DataFrame([result_dictionary]), val_res], axis=1)\n",
    "    results_df = results_df.append(run_results, ignore_index=True)"
   ]
  },
  {
   "cell_type": "code",
   "execution_count": null,
   "metadata": {},
   "outputs": [],
   "source": [
    "results_df #print results"
   ]
  },
  {
   "cell_type": "code",
   "execution_count": null,
   "metadata": {},
   "outputs": [],
   "source": [
    "results_df.to_csv(\"results/results.csv\") #store as csv"
   ]
  }
 ],
 "metadata": {
  "kernelspec": {
   "display_name": "Python 3",
   "language": "python",
   "name": "python3"
  },
  "language_info": {
   "codemirror_mode": {
    "name": "ipython",
    "version": 3
   },
   "file_extension": ".py",
   "mimetype": "text/x-python",
   "name": "python",
   "nbconvert_exporter": "python",
   "pygments_lexer": "ipython3",
   "version": "3.8.5"
  }
 },
 "nbformat": 4,
 "nbformat_minor": 4
}
