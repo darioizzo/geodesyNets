{
 "cells": [
  {
   "cell_type": "markdown",
   "metadata": {},
   "source": [
    "# Visualization\n",
    "This notebooks serves to visualize results of an individual run in detail."
   ]
  },
  {
   "cell_type": "code",
   "execution_count": null,
   "metadata": {},
   "outputs": [],
   "source": [
    "# core stuff\n",
    "import gravann,os\n",
    "import numpy as np\n",
    "import pickle as pk\n",
    "from tqdm import tqdm\n",
    "import torch\n",
    "\n",
    "# For animation etc.\n",
    "from IPython.core.interactiveshell import InteractiveShell\n",
    "InteractiveShell.ast_node_interactivity = \"all\"\n",
    "from IPython import display\n",
    "import matplotlib.pyplot as plt\n",
    "import imageio\n",
    "\n",
    "# Ensure that changes in imported module (gravann most importantly) are autoreloaded\n",
    "%load_ext autoreload\n",
    "%autoreload 2\n",
    "\n",
    "# If possible enable CUDA\n",
    "gravann.enableCUDA()\n",
    "gravann.fixRandomSeeds()\n",
    "device = os.environ[\"TORCH_DEVICE\"]\n",
    "print(\"Will use device \",device)"
   ]
  },
  {
   "cell_type": "markdown",
   "metadata": {},
   "source": [
    "# Define the run folder"
   ]
  },
  {
   "cell_type": "code",
   "execution_count": null,
   "metadata": {},
   "outputs": [],
   "source": [
    "results_folder = \"results/run_10_11_2020_ACC_siren/Churyumov-Gerasimenko.pk/LR=0.0001_loss=normalized_L1_loss_encoding=direct_encoding_batch_size=1000_target_sample=spherical_activation=Sigmoid/\"\n",
    "# results_folder = \"results/run_10_11_2020_ACC_default/Churyumov-Gerasimenko.pk/LR=0.0001_loss=normalized_L1_loss_encoding=direct_encoding_batch_size=1000_target_sample=spherical_activation=Sigmoid/\""
   ]
  },
  {
   "cell_type": "markdown",
   "metadata": {},
   "source": [
    "# Load run parameters and model"
   ]
  },
  {
   "cell_type": "code",
   "execution_count": null,
   "metadata": {},
   "outputs": [],
   "source": [
    "#Load run parameters\n",
    "with open(results_folder + \"config.pk\", \"rb\") as file:\n",
    "    params = pk.load(file)\n",
    "    sample = params[\"Sample\"]\n",
    "    encoding = getattr(gravann, params[\"Encoding\"])()\n",
    "    model = gravann.init_network(encoding,model_type=params[\"Model\"])\n",
    "    model.load_state_dict(torch.load(results_folder + \"model.mdl\"))\n",
    "\n",
    "print(params)\n",
    "with open(\"mascons/\" + sample, \"rb\") as file:\n",
    "    mascon_points, mascon_masses, name = pk.load(file)\n",
    "\n",
    "    mascon_points = torch.tensor(mascon_points)\n",
    "    mascon_masses = torch.tensor(mascon_masses)\n",
    "    \n",
    "c = gravann.compute_c_for_model(model,encoding, \n",
    "                                mascon_points, mascon_masses, \n",
    "                                use_acc = True if params[\"Type\"]==\"ACC\" else False)\n",
    "torch.cuda.empty_cache()"
   ]
  },
  {
   "cell_type": "code",
   "execution_count": null,
   "metadata": {},
   "outputs": [],
   "source": [
    "gravann.plot_model_contours(model,encoding,c=c,heatmap=True);"
   ]
  },
  {
   "cell_type": "code",
   "execution_count": null,
   "metadata": {},
   "outputs": [],
   "source": [
    "gravann.plot_model_vs_mascon_contours(model,encoding,mascon_points,mascon_masses,c=c,heatmap=True,levels = np.linspace(0,1.6, 16),mascon_alpha=0);"
   ]
  },
  {
   "cell_type": "code",
   "execution_count": null,
   "metadata": {},
   "outputs": [],
   "source": [
    "fig, val = gravann.plot_model_mascon_acceleration(\"3dmeshes/\"+sample,model,encoding,mascon_points,mascon_masses,plane=\"YZ\", altitude=0.05,N=5000,c=c,logscale=True);"
   ]
  },
  {
   "cell_type": "code",
   "execution_count": null,
   "metadata": {},
   "outputs": [],
   "source": [
    "levels =  np.linspace(2.35,2.4, 16)\n",
    "mascon_alpha = 0\n",
    "images = []\n",
    "for offset in tqdm(np.linspace(-0.75,0.75,20)):\n",
    "    fig = gravann.plot_model_vs_mascon_contours(model,encoding,mascon_points,mascon_masses,c=c,offset=offset,heatmap=True, levels = levels,mascon_alpha=mascon_alpha);\n",
    "    fig.canvas.draw();\n",
    "    image = np.frombuffer(fig.canvas.tostring_rgb(), dtype='uint8')\n",
    "    image = image.reshape(fig.canvas.get_width_height()[::-1] + (3,))\n",
    "    images.append(image)\n",
    "    plt.close(\"all\")"
   ]
  },
  {
   "cell_type": "code",
   "execution_count": null,
   "metadata": {},
   "outputs": [],
   "source": [
    "gifPath = \"gifs/contourf.gif\"\n",
    "imageio.mimsave(gifPath, images)"
   ]
  },
  {
   "cell_type": "code",
   "execution_count": null,
   "metadata": {},
   "outputs": [],
   "source": [
    "# Display GIF in Jupyter, CoLab, IPython\n",
    "with open(gifPath,'rb') as f:\n",
    "    display.Image(data=f.read(), format='png')"
   ]
  },
  {
   "cell_type": "markdown",
   "metadata": {},
   "source": [
    "https://github.com/matplotlib/matplotlib/issues/3919\n",
    "https://matplotlib.org/mpl_toolkits/mplot3d/tutorial.html#filled-contour-plots\n",
    "https://docs.enthought.com/mayavi/mayavi/mlab.html"
   ]
  },
  {
   "cell_type": "code",
   "execution_count": null,
   "metadata": {},
   "outputs": [],
   "source": []
  }
 ],
 "metadata": {
  "kernelspec": {
   "display_name": "Python 3",
   "language": "python",
   "name": "python3"
  },
  "language_info": {
   "codemirror_mode": {
    "name": "ipython",
    "version": 3
   },
   "file_extension": ".py",
   "mimetype": "text/x-python",
   "name": "python",
   "nbconvert_exporter": "python",
   "pygments_lexer": "ipython3",
   "version": "3.8.5"
  }
 },
 "nbformat": 4,
 "nbformat_minor": 4
}
