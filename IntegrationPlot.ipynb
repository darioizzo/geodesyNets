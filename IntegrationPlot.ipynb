{
 "cells": [
  {
   "cell_type": "code",
   "execution_count": null,
   "metadata": {},
   "outputs": [],
   "source": [
    "# Ensure that changes in imported module (gravann most importantly) are autoreloaded\n",
    "%load_ext autoreload\n",
    "%autoreload 2\n",
    "\n",
    "import gravann, os\n",
    "import matplotlib.pyplot as plt\n",
    "import torch \n",
    "from tqdm import tqdm\n",
    "import numpy as np\n",
    "\n",
    "# If possible enable CUDA\n",
    "gravann.enableCUDA()\n",
    "gravann.fixRandomSeeds()\n",
    "device = os.environ[\"TORCH_DEVICE\"]\n",
    "print(\"Will use device \",device)"
   ]
  },
  {
   "cell_type": "code",
   "execution_count": null,
   "metadata": {},
   "outputs": [],
   "source": [
    "results_folder = \"results/siren_all_runs_ACC_siren/Churyumov-Gerasimenko.pk/LR=0.0001_loss=normalized_L1_loss_encoding=direct_encoding_batch_size=1000_target_sample=spherical_activation=AbsLayer_omega=3e+01/\"\n",
    "differential_training = False\n",
    "\n",
    "model, encoding, sample, c, use_acc, mascon_points, mascon_masses_u, mascon_masses_nu, cfg = gravann.load_model_run(\n",
    "        results_folder, differential_training)\n",
    "\n"
   ]
  },
  {
   "cell_type": "code",
   "execution_count": null,
   "metadata": {},
   "outputs": [],
   "source": [
    "target_point = torch.tensor([[0.81,0.81,0.81]])\n",
    "mc = []\n",
    "trapz = []\n",
    "ld = []\n",
    "\n",
    "# x = [100,1000,10000,100000,200000,300000,400000,500000]\n",
    "\n",
    "x = np.logspace(4,5.75,50).astype(np.int)\n",
    "\n",
    "for N in tqdm(x):\n",
    "    torch.cuda.empty_cache()\n",
    "    mc.append(-gravann.U_mc(target_point,model,encoding,N=int(N)).cpu().detach().numpy()[0][0])\n",
    "    trapz.append(-gravann.U_trap_opt(target_point,model,encoding,N=int(N),noise=0.0).cpu().detach().numpy()[0][0])\n",
    "    ld.append(-gravann.U_ld(target_point,model,encoding,N=int(N),noise=0.0).cpu().detach().numpy()[0][0])"
   ]
  },
  {
   "cell_type": "code",
   "execution_count": null,
   "metadata": {},
   "outputs": [],
   "source": [
    "fig = plt.figure(dpi=150)\n",
    "# plt.semilogx(x, mc, label = \"Monte Carlo\", linestyle=\"dashed\",linewidth=1,marker=\"x\")\n",
    "plt.semilogx(x, ld, label = \"Low-Discrepancy Monte-Carlo\", linestyle=\"dashed\",linewidth=1,marker=\"o\")\n",
    "plt.semilogx(x, trapz, label = \"Trapezoidal Rule\", linestyle=\"dashed\",linewidth=1,marker=\"d\")\n",
    "plt.xlabel(\"Sampled Points\")\n",
    "plt.ylabel(\"Potential\")\n",
    "plt.xticks([1e4,2e4,5e4,1e5,2e5,5e5],labels=[\"1e4\",\"2e4\",\"5e4\",\"1e5\",\"2e5\",\"5e5\"])\n",
    "plt.legend()\n",
    "plt.savefig(\"figures/integration_plot.png\", dpi=300)"
   ]
  },
  {
   "cell_type": "code",
   "execution_count": null,
   "metadata": {},
   "outputs": [],
   "source": []
  }
 ],
 "metadata": {
  "kernelspec": {
   "display_name": "Python 3",
   "language": "python",
   "name": "python3"
  },
  "language_info": {
   "codemirror_mode": {
    "name": "ipython",
    "version": 3
   },
   "file_extension": ".py",
   "mimetype": "text/x-python",
   "name": "python",
   "nbconvert_exporter": "python",
   "pygments_lexer": "ipython3",
   "version": "3.8.5"
  }
 },
 "nbformat": 4,
 "nbformat_minor": 4
}
