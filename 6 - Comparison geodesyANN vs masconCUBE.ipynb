{
 "cells": [
  {
   "cell_type": "code",
   "execution_count": 1,
   "metadata": {
    "scrolled": true
   },
   "outputs": [
    {
     "name": "stderr",
     "output_type": "stream",
     "text": [
      "C:\\ProgramData\\Miniconda3\\envs\\geodesynet\\lib\\site-packages\\pyvista\\themes.py:122: PyvistaDeprecationWarning: use \"dark\" instead of \"night\" theme\n",
      "  warnings.warn('use \"dark\" instead of \"night\" theme', PyvistaDeprecationWarning)\n",
      "09:04:39|TQ-INFO| Initializing torchquad.\n"
     ]
    },
    {
     "name": "stdout",
     "output_type": "stream",
     "text": [
      "Available devices  1\n",
      "__pyTorch VERSION: 1.11.0\n",
      "__CUDNN VERSION: 8200\n",
      "__Number CUDA Devices: 1\n",
      "Active CUDA Device: GPU 0\n",
      "Setting default tensor type to Float32\n",
      "Will use device  cuda:0\n"
     ]
    }
   ],
   "source": [
    "# Import our module containing helper functions\n",
    "import gravann\n",
    "\n",
    "# Core imports\n",
    "import numpy as np\n",
    "import scipy\n",
    "import pickle as pk\n",
    "import os\n",
    "from collections import deque\n",
    "import torchquad as tquad\n",
    "tquad.set_log_level(\"CRITICAL\")\n",
    "from copy import deepcopy\n",
    "\n",
    "# pytorch\n",
    "from torch import nn\n",
    "import torch\n",
    "\n",
    "# plotting stuff\n",
    "import matplotlib.pyplot as plt\n",
    "from mpl_toolkits import mplot3d\n",
    "%matplotlib notebook\n",
    "\n",
    "# Ensure that changes in imported module (gravann most importantly) are autoreloaded\n",
    "%load_ext autoreload\n",
    "%autoreload 2\n",
    "\n",
    "# If possible enable CUDA\n",
    "gravann.enableCUDA()\n",
    "gravann.fixRandomSeeds()\n",
    "device = os.environ[\"TORCH_DEVICE\"]\n",
    "print(\"Will use device \",device)"
   ]
  },
  {
   "cell_type": "code",
   "execution_count": 2,
   "metadata": {},
   "outputs": [],
   "source": [
    "# Load the models to compare, on of \n",
    "# \"eros\", \"\""
   ]
  },
  {
   "cell_type": "code",
   "execution_count": 3,
   "metadata": {},
   "outputs": [],
   "source": [
    "name = \"eros\""
   ]
  },
  {
   "cell_type": "code",
   "execution_count": 4,
   "metadata": {},
   "outputs": [
    {
     "data": {
      "text/plain": [
       "<All keys matched successfully>"
      ]
     },
     "execution_count": 4,
     "metadata": {},
     "output_type": "execute_result"
    }
   ],
   "source": [
    "# 1 - We load the masconCUBE\n",
    "with open(\"models/\"+name+\"_masconCUBE.pk\", \"rb\") as file:\n",
    "    mascon_cube_points, mascon_cube_masses, mascon_cube_name = pk.load(file)\n",
    "# 2 - We load the ground truth (also a mascon body)\n",
    "with open(\"mascons/\"+name+\".pk\", \"rb\") as file:\n",
    "    mascon_points, mascon_masses, mascon_name = pk.load(file)\n",
    "mascon_points = torch.tensor(mascon_points)\n",
    "mascon_masses = torch.tensor(mascon_masses)\n",
    "mascon_cube_points = torch.tensor(mascon_cube_points)\n",
    "mascon_cube_masses = torch.tensor(mascon_cube_masses)\n",
    "\n",
    "# 3 - We load the geodesyNET\n",
    "encoding = gravann.direct_encoding()\n",
    "model = gravann.init_network(encoding, n_neurons=100, model_type=\"siren\", activation = gravann.AbsLayer())\n",
    "model.load_state_dict(torch.load(\"models/\"+name+\".mdl\"))"
   ]
  },
  {
   "cell_type": "code",
   "execution_count": 5,
   "metadata": {},
   "outputs": [
    {
     "name": "stderr",
     "output_type": "stream",
     "text": [
      "Computing validation...:  59%|█████████████████████████████                    | 44100/74244 [00:14<00:09, 3050.65it/s]"
     ]
    },
    {
     "name": "stdout",
     "output_type": "stream",
     "text": [
      "Discarding 4193 of 14744 points in altitude sampler which did not meet requested altitude.\n"
     ]
    },
    {
     "name": "stderr",
     "output_type": "stream",
     "text": [
      "Computing validation...:  73%|███████████████████████████████████▋             | 54100/74244 [00:29<00:06, 3092.07it/s]"
     ]
    },
    {
     "name": "stdout",
     "output_type": "stream",
     "text": [
      "Discarding 7421 of 14744 points in altitude sampler which did not meet requested altitude.\n"
     ]
    },
    {
     "name": "stderr",
     "output_type": "stream",
     "text": [
      "Computing validation...:  86%|██████████████████████████████████████████▎      | 64100/74244 [00:40<00:03, 3131.46it/s]"
     ]
    },
    {
     "name": "stdout",
     "output_type": "stream",
     "text": [
      "Discarding 11243 of 14744 points in altitude sampler which did not meet requested altitude.\n"
     ]
    },
    {
     "name": "stderr",
     "output_type": "stream",
     "text": [
      "Computing validation...: 74400it [00:48, 1537.50it/s]                                                                  \n"
     ]
    }
   ],
   "source": [
    "results_mascon = gravann.validation_mascon(mascon_cube_points, mascon_cube_masses,mascon_points,mascon_masses, asteroid_pk_path=\"3dmeshes/Eros.pk\", N=10000, batch_size=100, progressbar=True)"
   ]
  },
  {
   "cell_type": "code",
   "execution_count": 7,
   "metadata": {},
   "outputs": [
    {
     "name": "stderr",
     "output_type": "stream",
     "text": [
      "C:\\ProgramData\\Miniconda3\\envs\\geodesynet\\lib\\site-packages\\torch\\functional.py:568: UserWarning: torch.meshgrid: in an upcoming release, it will be required to pass the indexing argument. (Triggered internally at  C:\\cb\\pytorch_1000000000000\\work\\aten\\src\\ATen\\native\\TensorShape.cpp:2228.)\n",
      "  return _VF.meshgrid(tensors, **kwargs)  # type: ignore[attr-defined]\n",
      "Computing validation...:  60%|█████████████████████████████▊                    | 44300/74244 [00:45<00:30, 972.43it/s]"
     ]
    },
    {
     "name": "stdout",
     "output_type": "stream",
     "text": [
      "Discarding 4193 of 14744 points in altitude sampler which did not meet requested altitude.\n"
     ]
    },
    {
     "name": "stderr",
     "output_type": "stream",
     "text": [
      "Computing validation...:  73%|████████████████████████████████████▋             | 54400/74244 [01:21<00:53, 373.85it/s]"
     ]
    },
    {
     "name": "stdout",
     "output_type": "stream",
     "text": [
      "Discarding 7421 of 14744 points in altitude sampler which did not meet requested altitude.\n"
     ]
    },
    {
     "name": "stderr",
     "output_type": "stream",
     "text": [
      "Computing validation...:  87%|███████████████████████████████████████████▎      | 64400/74244 [01:53<00:23, 412.06it/s]"
     ]
    },
    {
     "name": "stdout",
     "output_type": "stream",
     "text": [
      "Discarding 11243 of 14744 points in altitude sampler which did not meet requested altitude.\n"
     ]
    },
    {
     "name": "stderr",
     "output_type": "stream",
     "text": [
      "Computing validation...: 74400it [02:23, 516.74it/s]                                                                   \n"
     ]
    }
   ],
   "source": [
    "results_geodesyNet = gravann.validation(model, encoding, mascon_points, mascon_masses, use_acc=True, asteroid_pk_path=\"3dmeshes/Eros.pk\", N=10000, N_integration=300000, batch_size=100, progressbar=True)"
   ]
  },
  {
   "cell_type": "code",
   "execution_count": 52,
   "metadata": {},
   "outputs": [],
   "source": [
    "results_geodesyNet.to_csv(\"models/\"+name+\"_validation_results.csv\")"
   ]
  },
  {
   "cell_type": "code",
   "execution_count": 8,
   "metadata": {},
   "outputs": [
    {
     "data": {
      "text/html": [
       "<div>\n",
       "<style scoped>\n",
       "    .dataframe tbody tr th:only-of-type {\n",
       "        vertical-align: middle;\n",
       "    }\n",
       "\n",
       "    .dataframe tbody tr th {\n",
       "        vertical-align: top;\n",
       "    }\n",
       "\n",
       "    .dataframe thead th {\n",
       "        text-align: right;\n",
       "    }\n",
       "</style>\n",
       "<table border=\"1\" class=\"dataframe\">\n",
       "  <thead>\n",
       "    <tr style=\"text-align: right;\">\n",
       "      <th></th>\n",
       "      <th>Altitude</th>\n",
       "      <th>Normalized L1 Loss</th>\n",
       "      <th>Normalized Relative Component Loss</th>\n",
       "      <th>RMSE</th>\n",
       "      <th>relRMSE</th>\n",
       "    </tr>\n",
       "  </thead>\n",
       "  <tbody>\n",
       "    <tr>\n",
       "      <th>0</th>\n",
       "      <td>Low Altitude</td>\n",
       "      <td>0.028174</td>\n",
       "      <td>0.018238</td>\n",
       "      <td>0.272122</td>\n",
       "      <td>0.055747</td>\n",
       "    </tr>\n",
       "    <tr>\n",
       "      <th>1</th>\n",
       "      <td>High Altitude</td>\n",
       "      <td>0.002311</td>\n",
       "      <td>0.001711</td>\n",
       "      <td>0.012548</td>\n",
       "      <td>0.002981</td>\n",
       "    </tr>\n",
       "    <tr>\n",
       "      <th>2</th>\n",
       "      <td>Altitude_0</td>\n",
       "      <td>0.00209</td>\n",
       "      <td>0.001599</td>\n",
       "      <td>0.007825</td>\n",
       "      <td>0.001991</td>\n",
       "    </tr>\n",
       "    <tr>\n",
       "      <th>3</th>\n",
       "      <td>Altitude_1</td>\n",
       "      <td>0.000416</td>\n",
       "      <td>0.000386</td>\n",
       "      <td>0.001433</td>\n",
       "      <td>0.000446</td>\n",
       "    </tr>\n",
       "    <tr>\n",
       "      <th>4</th>\n",
       "      <td>Altitude_2</td>\n",
       "      <td>0.000052</td>\n",
       "      <td>0.000081</td>\n",
       "      <td>0.000192</td>\n",
       "      <td>0.000099</td>\n",
       "    </tr>\n",
       "  </tbody>\n",
       "</table>\n",
       "</div>"
      ],
      "text/plain": [
       "        Altitude Normalized L1 Loss Normalized Relative Component Loss  \\\n",
       "0   Low Altitude           0.028174                           0.018238   \n",
       "1  High Altitude           0.002311                           0.001711   \n",
       "2     Altitude_0            0.00209                           0.001599   \n",
       "3     Altitude_1           0.000416                           0.000386   \n",
       "4     Altitude_2           0.000052                           0.000081   \n",
       "\n",
       "       RMSE   relRMSE  \n",
       "0  0.272122  0.055747  \n",
       "1  0.012548  0.002981  \n",
       "2  0.007825  0.001991  \n",
       "3  0.001433  0.000446  \n",
       "4  0.000192  0.000099  "
      ]
     },
     "execution_count": 8,
     "metadata": {},
     "output_type": "execute_result"
    }
   ],
   "source": [
    "results_geodesyNet"
   ]
  },
  {
   "cell_type": "code",
   "execution_count": 6,
   "metadata": {},
   "outputs": [
    {
     "data": {
      "text/html": [
       "<div>\n",
       "<style scoped>\n",
       "    .dataframe tbody tr th:only-of-type {\n",
       "        vertical-align: middle;\n",
       "    }\n",
       "\n",
       "    .dataframe tbody tr th {\n",
       "        vertical-align: top;\n",
       "    }\n",
       "\n",
       "    .dataframe thead th {\n",
       "        text-align: right;\n",
       "    }\n",
       "</style>\n",
       "<table border=\"1\" class=\"dataframe\">\n",
       "  <thead>\n",
       "    <tr style=\"text-align: right;\">\n",
       "      <th></th>\n",
       "      <th>Altitude</th>\n",
       "      <th>Normalized L1 Loss</th>\n",
       "      <th>Normalized Relative Component Loss</th>\n",
       "      <th>RMSE</th>\n",
       "      <th>relRMSE</th>\n",
       "    </tr>\n",
       "  </thead>\n",
       "  <tbody>\n",
       "    <tr>\n",
       "      <th>0</th>\n",
       "      <td>Low Altitude</td>\n",
       "      <td>0.037246</td>\n",
       "      <td>0.023903</td>\n",
       "      <td>0.347403</td>\n",
       "      <td>0.071892</td>\n",
       "    </tr>\n",
       "    <tr>\n",
       "      <th>1</th>\n",
       "      <td>High Altitude</td>\n",
       "      <td>0.001791</td>\n",
       "      <td>0.001315</td>\n",
       "      <td>0.010938</td>\n",
       "      <td>0.002544</td>\n",
       "    </tr>\n",
       "    <tr>\n",
       "      <th>2</th>\n",
       "      <td>Altitude_0</td>\n",
       "      <td>0.001436</td>\n",
       "      <td>0.001108</td>\n",
       "      <td>0.005659</td>\n",
       "      <td>0.001589</td>\n",
       "    </tr>\n",
       "    <tr>\n",
       "      <th>3</th>\n",
       "      <td>Altitude_1</td>\n",
       "      <td>0.000333</td>\n",
       "      <td>0.000307</td>\n",
       "      <td>0.001155</td>\n",
       "      <td>0.000352</td>\n",
       "    </tr>\n",
       "    <tr>\n",
       "      <th>4</th>\n",
       "      <td>Altitude_2</td>\n",
       "      <td>0.000056</td>\n",
       "      <td>0.000086</td>\n",
       "      <td>0.000317</td>\n",
       "      <td>0.000174</td>\n",
       "    </tr>\n",
       "  </tbody>\n",
       "</table>\n",
       "</div>"
      ],
      "text/plain": [
       "        Altitude Normalized L1 Loss Normalized Relative Component Loss  \\\n",
       "0   Low Altitude           0.037246                           0.023903   \n",
       "1  High Altitude           0.001791                           0.001315   \n",
       "2     Altitude_0           0.001436                           0.001108   \n",
       "3     Altitude_1           0.000333                           0.000307   \n",
       "4     Altitude_2           0.000056                           0.000086   \n",
       "\n",
       "       RMSE   relRMSE  \n",
       "0  0.347403  0.071892  \n",
       "1  0.010938  0.002544  \n",
       "2  0.005659  0.001589  \n",
       "3  0.001155  0.000352  \n",
       "4  0.000317  0.000174  "
      ]
     },
     "execution_count": 6,
     "metadata": {},
     "output_type": "execute_result"
    }
   ],
   "source": [
    "results_mascon"
   ]
  }
 ],
 "metadata": {
  "kernelspec": {
   "display_name": "Python 3 (ipykernel)",
   "language": "python",
   "name": "python3"
  },
  "language_info": {
   "codemirror_mode": {
    "name": "ipython",
    "version": 3
   },
   "file_extension": ".py",
   "mimetype": "text/x-python",
   "name": "python",
   "nbconvert_exporter": "python",
   "pygments_lexer": "ipython3",
   "version": "3.8.13"
  }
 },
 "nbformat": 4,
 "nbformat_minor": 4
}
