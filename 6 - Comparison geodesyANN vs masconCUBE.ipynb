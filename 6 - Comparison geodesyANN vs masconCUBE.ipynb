{
 "cells": [
  {
   "cell_type": "code",
   "execution_count": 3,
   "metadata": {
    "scrolled": true
   },
   "outputs": [
    {
     "name": "stderr",
     "output_type": "stream",
     "text": [
      "C:\\ProgramData\\Miniconda3\\envs\\geodesynet\\lib\\site-packages\\pyvista\\themes.py:122: PyvistaDeprecationWarning: use \"dark\" instead of \"night\" theme\n",
      "  warnings.warn('use \"dark\" instead of \"night\" theme', PyvistaDeprecationWarning)\n",
      "18:57:19|TQ-INFO| Initializing torchquad.\n"
     ]
    },
    {
     "name": "stdout",
     "output_type": "stream",
     "text": [
      "Available devices  1\n",
      "__pyTorch VERSION: 1.11.0\n",
      "__CUDNN VERSION: 8200\n",
      "__Number CUDA Devices: 1\n",
      "Active CUDA Device: GPU 0\n",
      "Setting default tensor type to Float32\n",
      "Will use device  cuda:0\n"
     ]
    }
   ],
   "source": [
    "# Import our module containing helper functions\n",
    "import gravann\n",
    "\n",
    "# Core imports\n",
    "import numpy as np\n",
    "import scipy\n",
    "import pickle as pk\n",
    "import os\n",
    "from collections import deque\n",
    "import torchquad as tquad\n",
    "tquad.set_log_level(\"CRITICAL\")\n",
    "from copy import deepcopy\n",
    "\n",
    "# pytorch\n",
    "from torch import nn\n",
    "import torch\n",
    "\n",
    "# plotting stuff\n",
    "import matplotlib.pyplot as plt\n",
    "from mpl_toolkits import mplot3d\n",
    "%matplotlib notebook\n",
    "\n",
    "# Ensure that changes in imported module (gravann most importantly) are autoreloaded\n",
    "%load_ext autoreload\n",
    "%autoreload 2\n",
    "\n",
    "# If possible enable CUDA\n",
    "gravann.enableCUDA()\n",
    "gravann.fixRandomSeeds()\n",
    "device = os.environ[\"TORCH_DEVICE\"]\n",
    "print(\"Will use device \",device)"
   ]
  },
  {
   "cell_type": "code",
   "execution_count": 2,
   "metadata": {},
   "outputs": [],
   "source": [
    "# Load the models to compare, on of \n",
    "# \"eros\", \"bennu\", \"churyumov-gerasimenko\", \"itokawa\", \"planetesimal\", \"bennu_nu\","
   ]
  },
  {
   "cell_type": "code",
   "execution_count": 4,
   "metadata": {},
   "outputs": [],
   "source": [
    "name = \"itokawa_nu\""
   ]
  },
  {
   "cell_type": "code",
   "execution_count": null,
   "metadata": {},
   "outputs": [],
   "source": [
    "# 1 - We load the masconCUBE\n",
    "with open(\"models/\"+name+\"_masconCUBE.pk\", \"rb\") as file:\n",
    "    mascon_cube_points, mascon_cube_masses, mascon_cube_name = pk.load(file)\n",
    "mascon_cube_points = torch.tensor(mascon_cube_points)\n",
    "mascon_cube_masses = torch.tensor(mascon_cube_masses)"
   ]
  },
  {
   "cell_type": "code",
   "execution_count": 5,
   "metadata": {},
   "outputs": [],
   "source": [
    "# 2 - We load the ground truth (also a mascon body)\n",
    "with open(\"mascons/\"+name+\".pk\", \"rb\") as file:\n",
    "    mascon_points, mascon_masses, mascon_name = pk.load(file)\n",
    "mascon_points = torch.tensor(mascon_points)\n",
    "mascon_masses = torch.tensor(mascon_masses)"
   ]
  },
  {
   "cell_type": "code",
   "execution_count": 6,
   "metadata": {},
   "outputs": [
    {
     "data": {
      "text/plain": [
       "<All keys matched successfully>"
      ]
     },
     "execution_count": 6,
     "metadata": {},
     "output_type": "execute_result"
    }
   ],
   "source": [
    "# 3 - We load the geodesyNET\n",
    "encoding = gravann.direct_encoding()\n",
    "model = gravann.init_network(encoding, n_neurons=100, model_type=\"siren\", activation = gravann.AbsLayer())\n",
    "model.load_state_dict(torch.load(\"models/\"+name+\".mdl\"))"
   ]
  },
  {
   "cell_type": "code",
   "execution_count": 9,
   "metadata": {},
   "outputs": [
    {
     "ename": "NameError",
     "evalue": "name 'mascon_cube_points' is not defined",
     "output_type": "error",
     "traceback": [
      "\u001b[1;31m---------------------------------------------------------------------------\u001b[0m",
      "\u001b[1;31mNameError\u001b[0m                                 Traceback (most recent call last)",
      "Input \u001b[1;32mIn [9]\u001b[0m, in \u001b[0;36m<cell line: 1>\u001b[1;34m()\u001b[0m\n\u001b[0;32m      1\u001b[0m results_mascon \u001b[38;5;241m=\u001b[39m gravann\u001b[38;5;241m.\u001b[39mvalidation_mascon(\n\u001b[1;32m----> 2\u001b[0m     \u001b[43mmascon_cube_points\u001b[49m, mascon_cube_masses, mascon_points,mascon_masses, \n\u001b[0;32m      3\u001b[0m     asteroid_pk_path\u001b[38;5;241m=\u001b[39m\u001b[38;5;124m\"\u001b[39m\u001b[38;5;124m3dmeshes/\u001b[39m\u001b[38;5;124m\"\u001b[39m\u001b[38;5;241m+\u001b[39mname\u001b[38;5;241m+\u001b[39m\u001b[38;5;124m\"\u001b[39m\u001b[38;5;124m.pk\u001b[39m\u001b[38;5;124m\"\u001b[39m, \n\u001b[0;32m      4\u001b[0m     N\u001b[38;5;241m=\u001b[39m\u001b[38;5;241m10000\u001b[39m, \n\u001b[0;32m      5\u001b[0m     batch_size\u001b[38;5;241m=\u001b[39m\u001b[38;5;241m100\u001b[39m, \n\u001b[0;32m      6\u001b[0m     progressbar\u001b[38;5;241m=\u001b[39m\u001b[38;5;28;01mTrue\u001b[39;00m)\n",
      "\u001b[1;31mNameError\u001b[0m: name 'mascon_cube_points' is not defined"
     ]
    }
   ],
   "source": [
    "results_mascon = gravann.validation_mascon(\n",
    "    mascon_cube_points, mascon_cube_masses, mascon_points,mascon_masses, \n",
    "    asteroid_pk_path=\"3dmeshes/\"+name+\".pk\", \n",
    "    N=10000, \n",
    "    batch_size=100, \n",
    "    progressbar=True)"
   ]
  },
  {
   "cell_type": "code",
   "execution_count": 7,
   "metadata": {},
   "outputs": [
    {
     "name": "stderr",
     "output_type": "stream",
     "text": [
      "C:\\ProgramData\\Miniconda3\\envs\\geodesynet\\lib\\site-packages\\torch\\functional.py:568: UserWarning: torch.meshgrid: in an upcoming release, it will be required to pass the indexing argument. (Triggered internally at  C:\\cb\\pytorch_1000000000000\\work\\aten\\src\\ATen\\native\\TensorShape.cpp:2228.)\n",
      "  return _VF.meshgrid(tensors, **kwargs)  # type: ignore[attr-defined]\n",
      "Computing validation...:  62%|███████████████████████████████████████████████████████████████████████████████████████████████████████▌                                                               | 48800/78672 [01:42<00:53, 557.48it/s]"
     ]
    },
    {
     "name": "stdout",
     "output_type": "stream",
     "text": [
      "Discarding 5977 of 16220 points in altitude sampler which did not meet requested altitude.\n"
     ]
    },
    {
     "name": "stderr",
     "output_type": "stream",
     "text": [
      "Computing validation...:  75%|████████████████████████████████████████████████████████████████████████████████████████████████████████████████████████████▊                                          | 58800/78672 [02:37<01:17, 255.54it/s]"
     ]
    },
    {
     "name": "stdout",
     "output_type": "stream",
     "text": [
      "Discarding 10858 of 16220 points in altitude sampler which did not meet requested altitude.\n"
     ]
    },
    {
     "name": "stderr",
     "output_type": "stream",
     "text": [
      "Computing validation...:  87%|██████████████████████████████████████████████████████████████████████████████████████████████████████████████████████████████████████████████████                     | 68800/78672 [03:30<00:38, 257.74it/s]"
     ]
    },
    {
     "name": "stdout",
     "output_type": "stream",
     "text": [
      "Discarding 14419 of 16220 points in altitude sampler which did not meet requested altitude.\n"
     ]
    },
    {
     "name": "stderr",
     "output_type": "stream",
     "text": [
      "Computing validation...: 78800it [04:20, 302.73it/s]                                                                                                                                                                                        \n"
     ]
    }
   ],
   "source": [
    "results_geodesyNet = gravann.validation(\n",
    "    model, encoding, mascon_points, mascon_masses, \n",
    "    use_acc=True, \n",
    "    asteroid_pk_path=\"3dmeshes/\"+name+\".pk\", \n",
    "    N=10000, \n",
    "    N_integration=300000,  # This needs to be the same as the number used during training, else precision will be lost\n",
    "    batch_size=100, \n",
    "    progressbar=True)"
   ]
  },
  {
   "cell_type": "code",
   "execution_count": 12,
   "metadata": {},
   "outputs": [],
   "source": [
    "#results_geodesyNet.to_csv(\"models/\"+name+\"_validation_results.csv\")"
   ]
  },
  {
   "cell_type": "code",
   "execution_count": 13,
   "metadata": {
    "scrolled": true
   },
   "outputs": [
    {
     "data": {
      "text/html": [
       "<div>\n",
       "<style scoped>\n",
       "    .dataframe tbody tr th:only-of-type {\n",
       "        vertical-align: middle;\n",
       "    }\n",
       "\n",
       "    .dataframe tbody tr th {\n",
       "        vertical-align: top;\n",
       "    }\n",
       "\n",
       "    .dataframe thead th {\n",
       "        text-align: right;\n",
       "    }\n",
       "</style>\n",
       "<table border=\"1\" class=\"dataframe\">\n",
       "  <thead>\n",
       "    <tr style=\"text-align: right;\">\n",
       "      <th></th>\n",
       "      <th>Altitude</th>\n",
       "      <th>Normalized L1 Loss</th>\n",
       "      <th>Normalized Relative Component Loss</th>\n",
       "      <th>RMSE</th>\n",
       "      <th>relRMSE</th>\n",
       "    </tr>\n",
       "  </thead>\n",
       "  <tbody>\n",
       "    <tr>\n",
       "      <th>0</th>\n",
       "      <td>Low Altitude</td>\n",
       "      <td>0.036731</td>\n",
       "      <td>0.028634</td>\n",
       "      <td>0.598604</td>\n",
       "      <td>0.13881</td>\n",
       "    </tr>\n",
       "    <tr>\n",
       "      <th>1</th>\n",
       "      <td>High Altitude</td>\n",
       "      <td>0.007685</td>\n",
       "      <td>0.006218</td>\n",
       "      <td>0.238595</td>\n",
       "      <td>0.053619</td>\n",
       "    </tr>\n",
       "    <tr>\n",
       "      <th>2</th>\n",
       "      <td>Altitude_0</td>\n",
       "      <td>0.002238</td>\n",
       "      <td>0.002018</td>\n",
       "      <td>0.007902</td>\n",
       "      <td>0.00236</td>\n",
       "    </tr>\n",
       "    <tr>\n",
       "      <th>3</th>\n",
       "      <td>Altitude_1</td>\n",
       "      <td>0.00049</td>\n",
       "      <td>0.000529</td>\n",
       "      <td>0.00172</td>\n",
       "      <td>0.000613</td>\n",
       "    </tr>\n",
       "    <tr>\n",
       "      <th>4</th>\n",
       "      <td>Altitude_2</td>\n",
       "      <td>0.000049</td>\n",
       "      <td>0.000086</td>\n",
       "      <td>0.000174</td>\n",
       "      <td>0.000104</td>\n",
       "    </tr>\n",
       "  </tbody>\n",
       "</table>\n",
       "</div>"
      ],
      "text/plain": [
       "        Altitude Normalized L1 Loss Normalized Relative Component Loss  \\\n",
       "0   Low Altitude           0.036731                           0.028634   \n",
       "1  High Altitude           0.007685                           0.006218   \n",
       "2     Altitude_0           0.002238                           0.002018   \n",
       "3     Altitude_1            0.00049                           0.000529   \n",
       "4     Altitude_2           0.000049                           0.000086   \n",
       "\n",
       "       RMSE   relRMSE  \n",
       "0  0.598604   0.13881  \n",
       "1  0.238595  0.053619  \n",
       "2  0.007902   0.00236  \n",
       "3   0.00172  0.000613  \n",
       "4  0.000174  0.000104  "
      ]
     },
     "execution_count": 13,
     "metadata": {},
     "output_type": "execute_result"
    }
   ],
   "source": [
    "results_geodesyNet"
   ]
  },
  {
   "cell_type": "code",
   "execution_count": 10,
   "metadata": {},
   "outputs": [
    {
     "data": {
      "text/html": [
       "<div>\n",
       "<style scoped>\n",
       "    .dataframe tbody tr th:only-of-type {\n",
       "        vertical-align: middle;\n",
       "    }\n",
       "\n",
       "    .dataframe tbody tr th {\n",
       "        vertical-align: top;\n",
       "    }\n",
       "\n",
       "    .dataframe thead th {\n",
       "        text-align: right;\n",
       "    }\n",
       "</style>\n",
       "<table border=\"1\" class=\"dataframe\">\n",
       "  <thead>\n",
       "    <tr style=\"text-align: right;\">\n",
       "      <th></th>\n",
       "      <th>Altitude</th>\n",
       "      <th>Normalized L1 Loss</th>\n",
       "      <th>Normalized Relative Component Loss</th>\n",
       "      <th>RMSE</th>\n",
       "      <th>relRMSE</th>\n",
       "    </tr>\n",
       "  </thead>\n",
       "  <tbody>\n",
       "    <tr>\n",
       "      <th>0</th>\n",
       "      <td>Low Altitude</td>\n",
       "      <td>0.381709</td>\n",
       "      <td>0.467057</td>\n",
       "      <td>2.639638</td>\n",
       "      <td>1.356471</td>\n",
       "    </tr>\n",
       "    <tr>\n",
       "      <th>1</th>\n",
       "      <td>High Altitude</td>\n",
       "      <td>0.571023</td>\n",
       "      <td>0.849245</td>\n",
       "      <td>2.55243</td>\n",
       "      <td>1.940997</td>\n",
       "    </tr>\n",
       "    <tr>\n",
       "      <th>2</th>\n",
       "      <td>Altitude_0</td>\n",
       "      <td>0.002011</td>\n",
       "      <td>0.002718</td>\n",
       "      <td>0.007081</td>\n",
       "      <td>0.003323</td>\n",
       "    </tr>\n",
       "    <tr>\n",
       "      <th>3</th>\n",
       "      <td>Altitude_1</td>\n",
       "      <td>0.000498</td>\n",
       "      <td>0.000855</td>\n",
       "      <td>0.001756</td>\n",
       "      <td>0.001048</td>\n",
       "    </tr>\n",
       "    <tr>\n",
       "      <th>4</th>\n",
       "      <td>Altitude_2</td>\n",
       "      <td>0.000116</td>\n",
       "      <td>0.000322</td>\n",
       "      <td>0.000382</td>\n",
       "      <td>0.000381</td>\n",
       "    </tr>\n",
       "  </tbody>\n",
       "</table>\n",
       "</div>"
      ],
      "text/plain": [
       "        Altitude Normalized L1 Loss Normalized Relative Component Loss  \\\n",
       "0   Low Altitude           0.381709                           0.467057   \n",
       "1  High Altitude           0.571023                           0.849245   \n",
       "2     Altitude_0           0.002011                           0.002718   \n",
       "3     Altitude_1           0.000498                           0.000855   \n",
       "4     Altitude_2           0.000116                           0.000322   \n",
       "\n",
       "       RMSE   relRMSE  \n",
       "0  2.639638  1.356471  \n",
       "1   2.55243  1.940997  \n",
       "2  0.007081  0.003323  \n",
       "3  0.001756  0.001048  \n",
       "4  0.000382  0.000381  "
      ]
     },
     "execution_count": 10,
     "metadata": {},
     "output_type": "execute_result"
    }
   ],
   "source": [
    "results_mascon"
   ]
  },
  {
   "cell_type": "code",
   "execution_count": 14,
   "metadata": {},
   "outputs": [],
   "source": [
    "factor =(7.329e10   * 6.67430e-11  / 352.1486930549145**2)"
   ]
  },
  {
   "cell_type": "code",
   "execution_count": 15,
   "metadata": {},
   "outputs": [],
   "source": [
    "absolute = results_geodesyNet[\"Normalized L1 Loss\"] * factor\n",
    "relative = results_geodesyNet[\"Normalized Relative Component Loss\"] "
   ]
  },
  {
   "cell_type": "code",
   "execution_count": 16,
   "metadata": {},
   "outputs": [
    {
     "name": "stdout",
     "output_type": "stream",
     "text": [
      "8.83e-08 & 1.93e-08 & 1.93e-09 & 0.20 & 0.05 & 0.009\n"
     ]
    }
   ],
   "source": [
    "# Prints the line for the table 1 in the paper\n",
    "print(f\"{absolute[2]:.2e} & {absolute[3]:.2e} & {absolute[4]:.2e} & {relative[2]*100:.2f} & {relative[3]*100:.2f} & {relative[4]*100:.3f}\")"
   ]
  },
  {
   "cell_type": "code",
   "execution_count": 14,
   "metadata": {},
   "outputs": [],
   "source": [
    "masconCUBE = results_mascon[\"Normalized Relative Component Loss\"]\n",
    "geodesyNET = results_geodesyNet[\"Normalized Relative Component Loss\"] \n"
   ]
  },
  {
   "cell_type": "code",
   "execution_count": 15,
   "metadata": {},
   "outputs": [
    {
     "name": "stdout",
     "output_type": "stream",
     "text": [
      "27.46 & 47.11\n",
      "46.71 & 84.92\n"
     ]
    }
   ],
   "source": [
    "print(f\"{geodesyNET[0]*100:.2f} & {geodesyNET[1]*100:.2f}\")\n",
    "print(f\"{masconCUBE[0]*100:.2f} & {masconCUBE[1]*100:.2f}\")"
   ]
  },
  {
   "cell_type": "code",
   "execution_count": null,
   "metadata": {},
   "outputs": [],
   "source": []
  }
 ],
 "metadata": {
  "kernelspec": {
   "display_name": "Python 3 (ipykernel)",
   "language": "python",
   "name": "python3"
  },
  "language_info": {
   "codemirror_mode": {
    "name": "ipython",
    "version": 3
   },
   "file_extension": ".py",
   "mimetype": "text/x-python",
   "name": "python",
   "nbconvert_exporter": "python",
   "pygments_lexer": "ipython3",
   "version": "3.8.13"
  }
 },
 "nbformat": 4,
 "nbformat_minor": 4
}
