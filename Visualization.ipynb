{
 "cells": [
  {
   "cell_type": "markdown",
   "metadata": {},
   "source": [
    "# Visualization\n",
    "This notebooks serves to visualize results of an individual run in detail."
   ]
  },
  {
   "cell_type": "code",
   "execution_count": null,
   "metadata": {},
   "outputs": [],
   "source": [
    "# core stuff\n",
    "import gravann,os\n",
    "import numpy as np\n",
    "import pickle as pk\n",
    "from tqdm import tqdm\n",
    "import torch\n",
    "\n",
    "# For animation etc.\n",
    "from IPython.core.interactiveshell import InteractiveShell\n",
    "InteractiveShell.ast_node_interactivity = \"all\"\n",
    "from IPython import display\n",
    "import matplotlib.pyplot as plt\n",
    "import imageio\n",
    "\n",
    "# Ensure that changes in imported module (gravann most importantly) are autoreloaded\n",
    "%load_ext autoreload\n",
    "%autoreload 2\n",
    "\n",
    "# If possible enable CUDA\n",
    "gravann.enableCUDA()\n",
    "gravann.fixRandomSeeds()\n",
    "device = os.environ[\"TORCH_DEVICE\"]\n",
    "print(\"Will use device \",device)"
   ]
  },
  {
   "cell_type": "markdown",
   "metadata": {},
   "source": [
    "# Define the run folder"
   ]
  },
  {
   "cell_type": "code",
   "execution_count": null,
   "metadata": {},
   "outputs": [],
   "source": [
    "results_folder = \"results\\differential_training_hollow2_ACC_siren_diff_train\\Hollow2.pk\\LR=0.0001_loss=normalized_L1_loss_encoding=direct_encoding_batch_size=1000_target_sample=spherical_activation=Tanh_omega=3e+01/\"\n",
    "differential_training = True\n",
    "\n",
    "model, encoding, sample, c, use_acc, mascon_points, mascon_masses_u, mascon_masses_nu, cfg = gravann.load_model_run(\n",
    "        results_folder, differential_training)\n",
    "\n",
    "torch.cuda.empty_cache()\n"
   ]
  },
  {
   "cell_type": "code",
   "execution_count": null,
   "metadata": {},
   "outputs": [],
   "source": [
    "c"
   ]
  },
  {
   "cell_type": "code",
   "execution_count": null,
   "metadata": {},
   "outputs": [],
   "source": [
    "gravann.plot_model_vs_mascon_contours(model,encoding,mascon_points,mascon_masses_u,c=c,heatmap=True,save_path=\"figures/\"+sample+\".png\",mascon_alpha=0.175);"
   ]
  },
  {
   "cell_type": "code",
   "execution_count": null,
   "metadata": {},
   "outputs": [],
   "source": [
    "#differential\n",
    "gravann.plot_model_vs_mascon_contours(model,encoding,mascon_points,mascon_masses_u,c=c,heatmap=True,save_path=\"figures/\"+sample+\".png\",mascon_alpha=0.175,add_shape_base_value=\"3dmeshes/\"+sample);"
   ]
  },
  {
   "cell_type": "code",
   "execution_count": null,
   "metadata": {},
   "outputs": [],
   "source": [
    "gravann.plot_model_mascon_acceleration(\"3dmeshes/\"+sample,model,encoding,mascon_points,mascon_masses_u,plane=\"XY\", altitude=0.1,N=7500,c=c,logscale=False);"
   ]
  },
  {
   "cell_type": "code",
   "execution_count": null,
   "metadata": {},
   "outputs": [],
   "source": [
    "gravann.plot_model_mascon_acceleration(\"3dmeshes/\"+sample,model,encoding,mascon_points,mascon_masses_u,plane=\"XY\", altitude=0.1,N=7500,c=c,logscale=False,save_path=\"figures/acc_xy.png\");\n",
    "gravann.plot_model_mascon_acceleration(\"3dmeshes/\"+sample,model,encoding,mascon_points,mascon_masses_u,plane=\"XZ\", altitude=0.1,N=7500,c=c,logscale=False,save_path=\"figures/acc_xz.png\");\n",
    "gravann.plot_model_mascon_acceleration(\"3dmeshes/\"+sample,model,encoding,mascon_points,mascon_masses_u,plane=\"YZ\", altitude=0.1,N=7500,c=c,logscale=False,save_path=\"figures/acc_yz.png\");"
   ]
  },
  {
   "cell_type": "code",
   "execution_count": null,
   "metadata": {},
   "outputs": [],
   "source": [
    "mascon_alpha = 0\n",
    "images = []\n",
    "for offset in tqdm(np.linspace(-0.75,0.75,10)):\n",
    "    fig = gravann.plot_model_vs_mascon_contours(model,encoding,mascon_points,mascon_masses,c=c,offset=offset,heatmap=True,mascon_alpha=mascon_alpha);\n",
    "    fig.canvas.draw();\n",
    "    image = np.frombuffer(fig.canvas.tostring_rgb(), dtype='uint8')\n",
    "    image = image.reshape(fig.canvas.get_width_height()[::-1] + (3,))\n",
    "    images.append(image)\n",
    "    plt.close(\"all\")"
   ]
  },
  {
   "cell_type": "code",
   "execution_count": null,
   "metadata": {},
   "outputs": [],
   "source": [
    "gifPath = \"gifs/contourf.gif\"\n",
    "imageio.mimsave(gifPath, images)"
   ]
  },
  {
   "cell_type": "code",
   "execution_count": null,
   "metadata": {},
   "outputs": [],
   "source": [
    "# Display GIF in Jupyter, CoLab, IPython\n",
    "with open(gifPath,'rb') as f:\n",
    "    display.Image(data=f.read(), format='png')"
   ]
  },
  {
   "cell_type": "markdown",
   "metadata": {},
   "source": [
    "## Altitude Sampler"
   ]
  },
  {
   "cell_type": "code",
   "execution_count": null,
   "metadata": {},
   "outputs": [],
   "source": [
    "sampler = gravann.get_target_point_sampler(1000,\"altitude\",bounds=[0.1,0.1],limit_shape_to_asteroid=\"3dmeshes/Eros_lp.pk\")"
   ]
  },
  {
   "cell_type": "code",
   "execution_count": null,
   "metadata": {},
   "outputs": [],
   "source": []
  }
 ],
 "metadata": {
  "kernelspec": {
   "display_name": "Python 3",
   "language": "python",
   "name": "python3"
  },
  "language_info": {
   "codemirror_mode": {
    "name": "ipython",
    "version": 3
   },
   "file_extension": ".py",
   "mimetype": "text/x-python",
   "name": "python",
   "nbconvert_exporter": "python",
   "pygments_lexer": "ipython3",
   "version": "3.8.5"
  }
 },
 "nbformat": 4,
 "nbformat_minor": 4
}
