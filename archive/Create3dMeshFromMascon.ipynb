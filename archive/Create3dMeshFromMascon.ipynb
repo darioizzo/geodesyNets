{
 "cells": [
  {
   "cell_type": "markdown",
   "metadata": {},
   "source": [
    "## We create and save a 3d mesh out of a mascon model"
   ]
  },
  {
   "cell_type": "code",
   "execution_count": 1,
   "metadata": {},
   "outputs": [],
   "source": [
    "import gravann\n",
    "# pytorch\n",
    "from torch import nn\n",
    "import torch\n",
    "# plotting stuff\n",
    "import matplotlib.pyplot as plt\n",
    "from mpl_toolkits import mplot3d\n",
    "%matplotlib notebook\n",
    "import numpy as np\n",
    "import pickle as pk"
   ]
  },
  {
   "cell_type": "code",
   "execution_count": 2,
   "metadata": {},
   "outputs": [],
   "source": [
    "with open(\"mascons/Hollow.pk\", \"rb\") as file:\n",
    "        mascon_points, mascon_masses, name = pk.load(file) \n",
    "mascon_points=torch.tensor(mascon_points)\n",
    "mascon_masses=torch.tensor(mascon_masses)"
   ]
  },
  {
   "cell_type": "code",
   "execution_count": 3,
   "metadata": {},
   "outputs": [],
   "source": [
    "mesh = gravann.plot_point_cloud_mesh(mascon_points, distance_threshold=0.15, use_top_k=5, interactive=True, subdivisions=3)"
   ]
  },
  {
   "cell_type": "code",
   "execution_count": 4,
   "metadata": {},
   "outputs": [],
   "source": [
    "mesh_points = mesh.points.tolist()\n",
    "mesh_triangles = np.array([mesh.faces[1::4], mesh.faces[2::4], mesh.faces[3::4]]).transpose().tolist()"
   ]
  },
  {
   "cell_type": "code",
   "execution_count": 6,
   "metadata": {},
   "outputs": [],
   "source": [
    "with open(\"3dmeshes/Hollow_raw_lp.pk\", \"wb\") as file:\n",
    "    pk.dump((mesh_points,mesh_triangles), file)"
   ]
  },
  {
   "cell_type": "code",
   "execution_count": null,
   "metadata": {},
   "outputs": [],
   "source": []
  }
 ],
 "metadata": {
  "kernelspec": {
   "display_name": "Python 3",
   "language": "python",
   "name": "python3"
  },
  "language_info": {
   "codemirror_mode": {
    "name": "ipython",
    "version": 3
   },
   "file_extension": ".py",
   "mimetype": "text/x-python",
   "name": "python",
   "nbconvert_exporter": "python",
   "pygments_lexer": "ipython3",
   "version": "3.8.6"
  }
 },
 "nbformat": 4,
 "nbformat_minor": 4
}
