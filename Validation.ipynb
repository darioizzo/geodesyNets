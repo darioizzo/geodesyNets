{
 "cells": [
  {
   "cell_type": "code",
   "execution_count": null,
   "metadata": {},
   "outputs": [],
   "source": [
    "# core stuff\n",
    "import pandas as pd\n",
    "\n",
    "# Ensure that changes in imported module (gravann most importantly) are autoreloaded\n",
    "%load_ext autoreload\n",
    "%autoreload 2"
   ]
  },
  {
   "cell_type": "code",
   "execution_count": null,
   "metadata": {},
   "outputs": [],
   "source": [
    "# Constants for conversion to metric\n",
    "L = {\n",
    "    \"Bennu.pk\": (352.1486930549145**2),\n",
    "    \"Churyumov-Gerasimenko.pk\": 3126.6064453124995**2, \n",
    "    \"Eros.pk\" : 20413.864850997925**2,\n",
    "    \"Itokawa.pk\": 350.438691675663**2,\n",
    "    \"Torus.pk\": 3126.6064453124995**2,\n",
    "    \"Hollow.pk\": 3126.6064453124995**2\n",
    "}\n",
    "conversion_unit = {\n",
    "    \"Bennu.pk\": (7.329e10   * 6.67430e-11  / 352.1486930549145**2),\n",
    "    \"Churyumov-Gerasimenko.pk\": 9.982e12 * 6.67430e-11 / 3126.6064453124995**2, \n",
    "    \"Eros.pk\" : 6.687e15 * 6.67430e-11 / 20413.864850997925**2,\n",
    "    \"Itokawa.pk\": 3.51e10 * 6.67430e-11 / 350.438691675663**2,\n",
    "    \"Torus.pk\": 9.982e12 * 6.67430e-11 / 3126.6064453124995**2,\n",
    "    \"Hollow.pk\": 9.982e12 * 6.67430e-11 / 3126.6064453124995**2\n",
    "}"
   ]
  },
  {
   "cell_type": "code",
   "execution_count": null,
   "metadata": {},
   "outputs": [],
   "source": [
    "conversion_unit"
   ]
  },
  {
   "cell_type": "markdown",
   "metadata": {},
   "source": [
    "To compute validation results, use the `run_validation.py` script. This notebook is used for postprocessing results from that.\n",
    "\n",
    "### Load the file and define conversion constants for conversion to metric"
   ]
  },
  {
   "cell_type": "code",
   "execution_count": null,
   "metadata": {},
   "outputs": [],
   "source": [
    "file = \"results/VALIDATION.csv\"\n",
    "results = pd.read_csv(file)\n",
    "results"
   ]
  },
  {
   "cell_type": "markdown",
   "metadata": {},
   "source": [
    "### Extract all desired values"
   ]
  },
  {
   "cell_type": "code",
   "execution_count": null,
   "metadata": {},
   "outputs": [],
   "source": [
    "cleaned_df = results.drop(columns=[\"Unnamed: 0\",\"Loss\",\n",
    "                                   \"RMSE@Altitude_0\",\"relRMSE@Altitude_0\",\n",
    "                                   \"RMSE@Altitude_1\",\"relRMSE@Altitude_1\",\n",
    "                                   \"RMSE@Altitude_2\",\"relRMSE@Altitude_2\",\n",
    "                                   \"Normalized L1 Loss@High Altitude\",\"Normalized Relative Component Loss@High Altitude\",\n",
    "                                   \"RMSE@High Altitude\",\"relRMSE@High Altitude\",\n",
    "                                   \"Normalized L1 Loss@Low Altitude\",\"Normalized Relative Component Loss@Low Altitude\",\n",
    "                                   \"RMSE@Low Altitude\",\"relRMSE@Low Altitude\"])\n",
    "cleaned_df"
   ]
  },
  {
   "cell_type": "code",
   "execution_count": null,
   "metadata": {},
   "outputs": [],
   "source": [
    "import numpy as np\n",
    "for idx in range(cleaned_df.shape[0]):\n",
    "    alt_str = cleaned_df.iloc[idx][\"Altitudes\"].replace(\"[\",\"\").replace(\"]\",\"\")\n",
    "    alts =  np.fromstring(alt_str, dtype=float, sep=\" \")\n",
    "    cleaned_df[\"Altitudes\"].loc[idx] = alts * L[cleaned_df.iloc[idx][\"Sample\"]]\n",
    "    \n",
    "    for col in cleaned_df.columns:\n",
    "        if col in [\"Normalized L1 Loss@Altitude_0\",\"Normalized L1 Loss@Altitude_1\",\"Normalized L1 Loss@Altitude_2\"]:\n",
    "            cleaned_df[col].loc[idx] = cleaned_df[col].loc[idx] * conversion_unit[cleaned_df.iloc[idx][\"Sample\"]]\n",
    "    \n",
    "cleaned_df = cleaned_df.set_index(\"Sample\")   \n",
    "print(cleaned_df)\n",
    "    "
   ]
  },
  {
   "cell_type": "code",
   "execution_count": null,
   "metadata": {},
   "outputs": [],
   "source": [
    "cleaned_df = cleaned_df.reindex([\"Bennu.pk\",\"Churyumov-Gerasimenko.pk\",\"Eros.pk\",\"Itokawa.pk\",\"Hollow.pk\",\"Torus.pk\"])\n",
    "pd.set_option(\"precision\", 4)\n",
    "np.set_printoptions(precision=1)"
   ]
  },
  {
   "cell_type": "code",
   "execution_count": null,
   "metadata": {},
   "outputs": [],
   "source": [
    "[print(_[0],\"\\t\\t\\t &\",\"% 10.2E &\"%_[1][0],\"% 10.2E &\"%_[1][1],\"% 10.2E &\"%_[1][2]) for _ in list(zip(cleaned_df.index,cleaned_df[\"Altitudes\"].values))];"
   ]
  },
  {
   "cell_type": "code",
   "execution_count": null,
   "metadata": {
    "scrolled": false
   },
   "outputs": [],
   "source": [
    "print(\"Abs\")\n",
    "[print(\"% 10.2E\"%_[1],\"&\") for _ in list(zip(cleaned_df.index,cleaned_df[\"Normalized L1 Loss@Altitude_0\"].values))];\n",
    "print()\n",
    "[print(\"% 10.2E\"%_[1],\"&\") for _ in list(zip(cleaned_df.index,cleaned_df[\"Normalized L1 Loss@Altitude_1\"].values))];\n",
    "print()\n",
    "[print(\"% 10.2E\"%_[1],\"&\") for _ in list(zip(cleaned_df.index,cleaned_df[\"Normalized L1 Loss@Altitude_2\"].values))];\n",
    "print()\n",
    "print(\"Rel\")\n",
    "[print('{:.3%}'.format(_[1]),\"&\") for _ in list(zip(cleaned_df.index,cleaned_df[\"Normalized Relative Component Loss@Altitude_0\"].values))];\n",
    "print()\n",
    "[print('{:.3%}'.format(_[1]),\"&\") for _ in list(zip(cleaned_df.index,cleaned_df[\"Normalized Relative Component Loss@Altitude_1\"].values))];\n",
    "print()\n",
    "[print('{:.3%}'.format(_[1])) for _ in list(zip(cleaned_df.index,cleaned_df[\"Normalized Relative Component Loss@Altitude_2\"].values))];"
   ]
  },
  {
   "cell_type": "code",
   "execution_count": null,
   "metadata": {},
   "outputs": [],
   "source": []
  }
 ],
 "metadata": {
  "kernelspec": {
   "display_name": "Python 3",
   "language": "python",
   "name": "python3"
  },
  "language_info": {
   "codemirror_mode": {
    "name": "ipython",
    "version": 3
   },
   "file_extension": ".py",
   "mimetype": "text/x-python",
   "name": "python",
   "nbconvert_exporter": "python",
   "pygments_lexer": "ipython3",
   "version": "3.8.5"
  }
 },
 "nbformat": 4,
 "nbformat_minor": 4
}
