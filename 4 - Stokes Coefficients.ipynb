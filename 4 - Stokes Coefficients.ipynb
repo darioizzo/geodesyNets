{
 "cells": [
  {
   "cell_type": "markdown",
   "metadata": {},
   "source": [
    "# Computing Stokes Coefficients\n",
    "This notebook shows how to compute normalized Stokes coefficients from generic mascon models and geodesyNETs.\n",
    "\n",
    "We use the following formal definition for the description of the gravitational potential (Tricarico 2013, Yoder 1995):\n",
    "\n",
    "$$\n",
    "U(r, \\theta, \\phi) = \\frac \\mu r \\sum_{l=0}^{l=\\infty}\\sum_{m=0}^{m=l}\\left(\\frac {r_0}r\\right)P_{lm}(cos\\theta) \\cdot\\\\\n",
    "\\cdot \\left( C_{lm}\\cos m\\phi + S_{lm} \\sin m\\phi \\right)\n",
    "$$\n",
    "\n",
    "where the Stokes coefficients relate to the body density via the formulas:\n",
    "\n",
    "\n",
    "and\n",
    "\n",
    "$$\n",
    "C_{lm} = \\frac{(2-\\delta_{m,0})}{M}\\frac{(l-m)!}{(l+m)!} \\int_V \\rho \\left(\\frac{r}{r_0} \\right)^l \\cdot\\\\\n",
    "\\cdot P_{lm}(\\cos\\theta)\\cos m\\phi dV\n",
    "$$\n",
    "\n",
    "and\n",
    "\n",
    "$$\n",
    "S_{lm} = \\frac{(2-\\delta_{m,0})}{M}\\frac{(l-m)!}{(l+m)!} \\int_V \\rho \\left(\\frac{r}{r_0} \\right)^l \\cdot\\\\\n",
    "\\cdot P_{lm}(\\cos\\theta)\\sin m\\phi dV\n",
    "$$\n",
    "\n",
    "We also use the normalization factor $N_{lm}$ defined as:\n",
    "\n",
    "$$\n",
    "N_{lm} = \\sqrt{\\frac{(l+m)!}{(2-\\delta_{m,0})(2l+1)(l-m)!} }\n",
    "$$\n",
    "\n",
    "so that our normalized Stokes coefficients are $\\left\\{\\tilde C_{m,l}, \\tilde\n",
    "S_{m,l}\\right\\} = \\left\\{C_{m,l}, S_{m,l}\\right\\} N_{lm}$\n"
   ]
  },
  {
   "cell_type": "code",
   "execution_count": null,
   "metadata": {
    "scrolled": true
   },
   "outputs": [],
   "source": [
    "# Import our module containing helper functions\n",
    "import gravann\n",
    "\n",
    "# Core imports\n",
    "import numpy as np\n",
    "import scipy\n",
    "import pickle as pk\n",
    "import os\n",
    "import torchquad as tquad\n",
    "tquad.set_log_level(\"WARNING\")\n",
    "\n",
    "# pytorch\n",
    "from torch import nn\n",
    "import torch\n",
    "\n",
    "# plotting stuff\n",
    "import matplotlib.pyplot as plt\n",
    "from mpl_toolkits import mplot3d\n",
    "%matplotlib notebook\n",
    "\n",
    "# Ensure that changes in imported module (gravann most importantly) are autoreloaded\n",
    "%load_ext autoreload\n",
    "%autoreload 2\n",
    "\n",
    "# If possible enable CUDA\n",
    "gravann.enableCUDA()\n",
    "gravann.fixRandomSeeds()\n",
    "device = os.environ[\"TORCH_DEVICE\"]\n",
    "print(\"Will use device \",device)\n",
    "\n",
    "tquad.set_precision(\"double\")"
   ]
  },
  {
   "cell_type": "markdown",
   "metadata": {},
   "source": [
    "# Loading and visualizing a mascon model\n",
    "For the purpose of this nottebbok we will notebook we will be using, as mascon model, the one of Eros. Note though\n",
    "that the procedure will be valid in general for any mascon model, that is N masses placed in N points in space."
   ]
  },
  {
   "cell_type": "code",
   "execution_count": null,
   "metadata": {},
   "outputs": [],
   "source": [
    "target = \"models/Bennu.mdl\"\n",
    "target = target.split(\".\")[0].split(\"/\")[1]\n",
    "\n",
    "# We load the ground truth (a mascon model of some body)\n",
    "with open(\"mascons/\"+target+\".pk\", \"rb\") as file:\n",
    "    mascon_points, mascon_masses, mascon_name = pk.load(file)\n",
    "    \n",
    "# We keep the data structure as numpy arrays (for now). Later we will use torch.\n",
    "mascon_points = mascon_points\n",
    "mascon_masses = mascon_masses\n",
    "\n",
    "# Print some information on the loaded ground truth \n",
    "# (non-dimensional units assumed. All mascon coordinates are thus in -1,1 and the mass is 1)\n",
    "print(\"Name: \", mascon_name)\n",
    "print(\"Number of mascons: \", len(mascon_points))\n",
    "print(\"Total mass: \", sum(mascon_masses))"
   ]
  },
  {
   "cell_type": "code",
   "execution_count": null,
   "metadata": {},
   "outputs": [],
   "source": [
    "# Here we visualize the loaded mascon model\n",
    "gravann.plot_mascon(mascon_points, mascon_masses)"
   ]
  },
  {
   "cell_type": "markdown",
   "metadata": {},
   "source": [
    "# Stokes Coefficients From Mascon"
   ]
  },
  {
   "cell_type": "code",
   "execution_count": null,
   "metadata": {},
   "outputs": [],
   "source": [
    "# Units of Length (this is Eros) (depend on how the the mascon model was created .... )\n",
    "# These numbers matter for the final values quantitatively (but not qualitatively)\n",
    "L = {\n",
    "    \"Bennu.pk\": 352.1486930549145,\n",
    "    \"Bennu_nu.pk\": 352.1486930549145,\n",
    "    \"Churyumov-Gerasimenko.pk\": 3126.6064453124995, \n",
    "    \"Eros.pk\" : 20413.864850997925,\n",
    "    \"Itokawa.pk\": 350.438691675663,\n",
    "    \"Itokawa_nu.pk\": 350.438691675663,\n",
    "    \"Torus.pk\": 3126.6064453124995,\n",
    "    \"Hollow.pk\": 3126.6064453124995,\n",
    "    \"Hollow_nu.pk\": 3126.6064453124995,\n",
    "    \"Hollow2.pk\": 3126.6064453124995,\n",
    "    \"Hollow2_nu.pk\": 3126.6064453124995\n",
    "}\n",
    "\n",
    "R0 = {\n",
    "    \"Eros.pk\" : 16000,\n",
    "    \"Itokawa.pk\": 300,\n",
    "    \"Churyumov-Gerasimenko.pk\": 4300,\n",
    "    \"Bennu.pk\": 565\n",
    "}\n",
    "L = L[target + \".pk\"]\n",
    "R0 = R0[target + \".pk\"] / L"
   ]
  },
  {
   "cell_type": "code",
   "execution_count": null,
   "metadata": {},
   "outputs": [],
   "source": [
    "with open(\"stokes/stokes_77_\"+target+\"_gt.pk\", \"rb\") as file:\n",
    "    stokesC_gt, stokesS_gt = pk.load(file)"
   ]
  },
  {
   "cell_type": "code",
   "execution_count": null,
   "metadata": {},
   "outputs": [],
   "source": [
    "# Let us generate all Stokes coefficients up to order 7 and degree 7 (a square model)\n",
    "l=7\n",
    "m=7\n",
    "stokesC_gt, stokesS_gt = gravann.mascon2stokes(mascon_points, mascon_masses, R0, l, m) #-> this should go on torch?"
   ]
  },
  {
   "cell_type": "code",
   "execution_count": null,
   "metadata": {},
   "outputs": [],
   "source": [
    "stokesC_gt"
   ]
  },
  {
   "cell_type": "code",
   "execution_count": null,
   "metadata": {},
   "outputs": [],
   "source": [
    "stokesS_gt"
   ]
  },
  {
   "cell_type": "markdown",
   "metadata": {},
   "source": [
    "# Stokes Coefficients from godesyNET"
   ]
  },
  {
   "cell_type": "code",
   "execution_count": null,
   "metadata": {},
   "outputs": [],
   "source": [
    "# Integrand to compute the mass\n",
    "def mass(x):\n",
    "    return model(x)"
   ]
  },
  {
   "cell_type": "markdown",
   "metadata": {},
   "source": [
    "## We load the neural density field for Eros"
   ]
  },
  {
   "cell_type": "code",
   "execution_count": null,
   "metadata": {},
   "outputs": [],
   "source": [
    "# Encoding: direct encoding (i.e. feeding the network directly with the Cartesian coordinates in the unit hypercube)\n",
    "# was found to work well in most cases. But more options are implemented in the module.\n",
    "encoding = gravann.direct_encoding()\n",
    "\n",
    "# The model is here a SIREN network (FFNN with sin non linearities and a final absolute value to predict the density)\n",
    "model = gravann.init_network(encoding, n_neurons=100, model_type=\"siren\", activation = gravann.AbsLayer())\n",
    "# Uncomment to run on CPU\n",
    "#model.load_state_dict(torch.load(\"models/eros.mdl\", map_location=torch.device('cpu')))\n",
    "model.load_state_dict(torch.load(\"models/\"+target+\".mdl\"))"
   ]
  },
  {
   "cell_type": "markdown",
   "metadata": {},
   "source": [
    "... and we initialize the quadrature object and the associated Legendre polynomials"
   ]
  },
  {
   "cell_type": "code",
   "execution_count": null,
   "metadata": {},
   "outputs": [],
   "source": [
    "# We construct the vecotrized Legendre associated polynomials\n",
    "P = gravann.legendre_factory_torch(n = 16)\n",
    "# Declare an integrator\n",
    "quad = tquad.Boole()"
   ]
  },
  {
   "cell_type": "markdown",
   "metadata": {},
   "source": [
    "... we compute the Asteroid mass from the model (this corresponds to 1/c)"
   ]
  },
  {
   "cell_type": "code",
   "execution_count": null,
   "metadata": {},
   "outputs": [],
   "source": [
    "# Compute the function integral\n",
    "N = 60**3\n",
    "M = quad.integrate(mass,dim=3,N=N,integration_domain = [[-1,1],[-1,1],[-1,1]])\n",
    "print(M)\n",
    "torch.cuda.empty_cache()"
   ]
  },
  {
   "cell_type": "code",
   "execution_count": null,
   "metadata": {},
   "outputs": [],
   "source": [
    "stokesC_gann = np.zeros((8,8))\n",
    "for l in range(8):\n",
    "    for m in range(8):\n",
    "        if m>l:\n",
    "            continue\n",
    "        stokesC_gann[l][m] = quad.integrate(lambda x, l=l, m=m, P=P, model=model, R0=R0: gravann.Clm(x, model, l, m, R0, P), dim=3, N=N,integration_domain =[[-1,1],[-1,1],[-1,1]])\n",
    "        stokesC_gann[l][m] = stokesC_gann[l][m]/M*gravann.constant_factors(l,m)\n",
    "        print(f\"C_{l}{m} {stokesC_gt[l][m]:2.3e} {stokesC_gann[l][m]:2.3e}\")"
   ]
  },
  {
   "cell_type": "code",
   "execution_count": null,
   "metadata": {},
   "outputs": [],
   "source": [
    "stokesS_gann = np.zeros((8,8))\n",
    "for l in range(8):\n",
    "    for m in range(8):\n",
    "        if m>l:\n",
    "            continue\n",
    "        stokesS_gann[l][m] = quad.integrate(lambda x, l=l, m=m, P=P, model=model, R0=R0: gravann.Slm(x, model, l, m, R0, P), dim=3, N=N,integration_domain = [[-1,1],[-1,1],[-1,1]])\n",
    "        stokesS_gann[l][m] = stokesS_gann[l][m]/M*gravann.constant_factors(l,m)\n",
    "        print(f\"C_{l}{m} {stokesS_gt[l][m]:2.3e} {stokesS_gann[l][m]:2.3e}\")"
   ]
  },
  {
   "cell_type": "code",
   "execution_count": null,
   "metadata": {},
   "outputs": [],
   "source": [
    "# Here we compute the sorted indexes corresponding to the largest values\n",
    "idxs = np.dstack(np.unravel_index(np.argsort(-np.abs(stokesC_gt.ravel())), (8, 8)))[0]\n",
    "print(f\"Harmonics \\tGround Truth \\tGeodesyNET\")\n",
    "abs_errs_gann = []\n",
    "rel_errs_gann = []\n",
    "\n",
    "N_largest = 16\n",
    "\n",
    "for n,pos in enumerate(idxs):\n",
    "    if n == 0:\n",
    "        continue\n",
    "    if n == N_largest+1:\n",
    "        break\n",
    "    abs_errs_gann.append(abs(stokesC_gt[l][m] - stokesC_gann[l][m]))\n",
    "    if(stokesC_gt[l][m] > 0):\n",
    "        rel_errs_gann.append(abs(stokesC_gt[l][m] - stokesC_gann[l][m]) / stokesC_gt[l][m])\n",
    "    l,m = pos\n",
    "    print(f\"C_{l}{m}, \\t\\t{stokesC_gt[l][m]:2.3e}, \\t{stokesC_gann[l][m]:2.3e}\")\n",
    "\n",
    "print(\"geodesyNet Mean Abs. Err. =\",np.mean(abs_errs_gann))\n",
    "print(\"geodesyNet Mean Rel. Err. =\",np.mean(rel_errs_gann))"
   ]
  },
  {
   "cell_type": "code",
   "execution_count": null,
   "metadata": {},
   "outputs": [],
   "source": [
    "with open(\"stokes/stokes_77_\"+target+\"_gt.pk\", \"wb\") as file:\n",
    "    pk.dump((stokesC_gt, stokesS_gt), file)\n",
    "with open(\"stokes/stokes_77_\"+target+\"_gann.pk\", \"wb\") as file:\n",
    "    pk.dump((stokesC_gann, stokesS_gann), file)"
   ]
  },
  {
   "cell_type": "code",
   "execution_count": null,
   "metadata": {},
   "outputs": [],
   "source": []
  }
 ],
 "metadata": {
  "kernelspec": {
   "display_name": "Python 3",
   "language": "python",
   "name": "python3"
  },
  "language_info": {
   "codemirror_mode": {
    "name": "ipython",
    "version": 3
   },
   "file_extension": ".py",
   "mimetype": "text/x-python",
   "name": "python",
   "nbconvert_exporter": "python",
   "pygments_lexer": "ipython3",
   "version": "3.8.10"
  }
 },
 "nbformat": 4,
 "nbformat_minor": 4
}
