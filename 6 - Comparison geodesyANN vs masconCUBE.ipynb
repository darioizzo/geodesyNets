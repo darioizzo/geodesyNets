{
 "cells": [
  {
   "cell_type": "code",
   "execution_count": 1,
   "metadata": {
    "scrolled": true
   },
   "outputs": [
    {
     "name": "stderr",
     "output_type": "stream",
     "text": [
      "C:\\ProgramData\\Miniconda3\\envs\\geodesynet\\lib\\site-packages\\pyvista\\themes.py:123: PyvistaDeprecationWarning: use \"dark\" instead of \"night\" theme\n",
      "  warnings.warn('use \"dark\" instead of \"night\" theme', PyvistaDeprecationWarning)\n",
      "12:37:37|TQ-INFO| Initializing torchquad.\n"
     ]
    },
    {
     "name": "stdout",
     "output_type": "stream",
     "text": [
      "Available devices  1\n",
      "__pyTorch VERSION: 1.10.0\n",
      "__CUDNN VERSION: 7605\n",
      "__Number CUDA Devices: 1\n",
      "Active CUDA Device: GPU 0\n",
      "Setting default tensor type to Float32\n",
      "Will use device  cuda:0\n"
     ]
    }
   ],
   "source": [
    "# Import our module containing helper functions\n",
    "import gravann\n",
    "\n",
    "# Core imports\n",
    "import numpy as np\n",
    "import scipy\n",
    "import pickle as pk\n",
    "import os\n",
    "from collections import deque\n",
    "import torchquad as tquad\n",
    "tquad.set_log_level(\"CRITICAL\")\n",
    "from copy import deepcopy\n",
    "\n",
    "# pytorch\n",
    "from torch import nn\n",
    "import torch\n",
    "\n",
    "# plotting stuff\n",
    "import matplotlib.pyplot as plt\n",
    "from mpl_toolkits import mplot3d\n",
    "%matplotlib notebook\n",
    "\n",
    "# Ensure that changes in imported module (gravann most importantly) are autoreloaded\n",
    "%load_ext autoreload\n",
    "%autoreload 2\n",
    "\n",
    "# If possible enable CUDA\n",
    "gravann.enableCUDA()\n",
    "gravann.fixRandomSeeds()\n",
    "device = os.environ[\"TORCH_DEVICE\"]\n",
    "print(\"Will use device \",device)"
   ]
  },
  {
   "cell_type": "code",
   "execution_count": 2,
   "metadata": {},
   "outputs": [],
   "source": [
    "# Load the models to compare"
   ]
  },
  {
   "cell_type": "code",
   "execution_count": 37,
   "metadata": {},
   "outputs": [],
   "source": [
    "name = \"planetesimal\""
   ]
  },
  {
   "cell_type": "code",
   "execution_count": 41,
   "metadata": {},
   "outputs": [
    {
     "data": {
      "text/plain": [
       "<All keys matched successfully>"
      ]
     },
     "execution_count": 41,
     "metadata": {},
     "output_type": "execute_result"
    }
   ],
   "source": [
    "# We load the masconCUBE\n",
    "with open(\"models/\"+name+\"_masconCUBE.pk\", \"rb\") as file:\n",
    "    mascon_cube_points, mascon_cube_masses, mascon_cube_name = pk.load(file)\n",
    "# We load the ground truth\n",
    "with open(\"mascons/Hollow2.pk\", \"rb\") as file:\n",
    "    mascon_points, mascon_masses, mascon_name = pk.load(file)\n",
    "mascon_points = torch.tensor(mascon_points)\n",
    "mascon_masses = torch.tensor(mascon_masses)\n",
    "mascon_cube_points = torch.tensor(mascon_cube_points)\n",
    "mascon_cube_masses = torch.tensor(mascon_cube_masses)\n",
    "\n",
    "# We load the gravityNet\n",
    "encoding = gravann.direct_encoding()\n",
    "model = gravann.init_network(encoding, n_neurons=100, model_type=\"siren\", activation = gravann.AbsLayer())\n",
    "model.load_state_dict(torch.load(\"models/\"+name+\".mdl\"))"
   ]
  },
  {
   "cell_type": "code",
   "execution_count": 42,
   "metadata": {},
   "outputs": [],
   "source": [
    "#results_mascon = gravann.validation_mascon(mascon_cube_points, mascon_cube_masses,mascon_points,mascon_masses, asteroid_pk_path=\"3dmeshes/Eros.pk\", N=10000, batch_size=100, progressbar=True)"
   ]
  },
  {
   "cell_type": "code",
   "execution_count": 44,
   "metadata": {},
   "outputs": [
    {
     "name": "stderr",
     "output_type": "stream",
     "text": [
      "Computing validation...:  57%|████████████████████████████▍                     | 39300/69204 [00:41<00:31, 952.74it/s]"
     ]
    },
    {
     "name": "stdout",
     "output_type": "stream",
     "text": [
      "Discarding 1829 of 12288 points in altitude sampler which did not meet requested altitude.\n"
     ]
    },
    {
     "name": "stderr",
     "output_type": "stream",
     "text": [
      "Computing validation...:  71%|███████████████████████████████████▋              | 49400/69204 [01:16<00:49, 397.00it/s]"
     ]
    },
    {
     "name": "stdout",
     "output_type": "stream",
     "text": [
      "Discarding 5600 of 12288 points in altitude sampler which did not meet requested altitude.\n"
     ]
    },
    {
     "name": "stderr",
     "output_type": "stream",
     "text": [
      "Computing validation...:  86%|██████████████████████████████████████████▉       | 59400/69204 [01:49<00:24, 394.36it/s]"
     ]
    },
    {
     "name": "stdout",
     "output_type": "stream",
     "text": [
      "Discarding 9745 of 12288 points in altitude sampler which did not meet requested altitude.\n"
     ]
    },
    {
     "name": "stderr",
     "output_type": "stream",
     "text": [
      "Computing validation...: 69400it [02:19, 496.70it/s]                                                                   \n"
     ]
    }
   ],
   "source": [
    "results_geodesyNet = gravann.validation(model, encoding, mascon_points, mascon_masses, use_acc=True, asteroid_pk_path=\"3dmeshes/Hollow2.pk\", N=10000, N_integration=300000, batch_size=100, progressbar=True)"
   ]
  },
  {
   "cell_type": "code",
   "execution_count": 45,
   "metadata": {},
   "outputs": [],
   "source": [
    "results_geodesyNet.to_csv(\"models/\"+name+\"_validation_results.csv\")"
   ]
  },
  {
   "cell_type": "code",
   "execution_count": 46,
   "metadata": {},
   "outputs": [
    {
     "data": {
      "text/html": [
       "<div>\n",
       "<style scoped>\n",
       "    .dataframe tbody tr th:only-of-type {\n",
       "        vertical-align: middle;\n",
       "    }\n",
       "\n",
       "    .dataframe tbody tr th {\n",
       "        vertical-align: top;\n",
       "    }\n",
       "\n",
       "    .dataframe thead th {\n",
       "        text-align: right;\n",
       "    }\n",
       "</style>\n",
       "<table border=\"1\" class=\"dataframe\">\n",
       "  <thead>\n",
       "    <tr style=\"text-align: right;\">\n",
       "      <th></th>\n",
       "      <th>Altitude</th>\n",
       "      <th>Normalized L1 Loss</th>\n",
       "      <th>Normalized Relative Component Loss</th>\n",
       "      <th>RMSE</th>\n",
       "      <th>relRMSE</th>\n",
       "    </tr>\n",
       "  </thead>\n",
       "  <tbody>\n",
       "    <tr>\n",
       "      <th>0</th>\n",
       "      <td>Low Altitude</td>\n",
       "      <td>0.754842</td>\n",
       "      <td>1.540118</td>\n",
       "      <td>2.293016</td>\n",
       "      <td>1.549731</td>\n",
       "    </tr>\n",
       "    <tr>\n",
       "      <th>1</th>\n",
       "      <td>High Altitude</td>\n",
       "      <td>0.048585</td>\n",
       "      <td>0.123796</td>\n",
       "      <td>0.178742</td>\n",
       "      <td>0.147401</td>\n",
       "    </tr>\n",
       "    <tr>\n",
       "      <th>2</th>\n",
       "      <td>Altitude_0</td>\n",
       "      <td>0.073792</td>\n",
       "      <td>0.151197</td>\n",
       "      <td>0.376697</td>\n",
       "      <td>0.256801</td>\n",
       "    </tr>\n",
       "    <tr>\n",
       "      <th>3</th>\n",
       "      <td>Altitude_1</td>\n",
       "      <td>0.059097</td>\n",
       "      <td>0.136295</td>\n",
       "      <td>0.214249</td>\n",
       "      <td>0.164891</td>\n",
       "    </tr>\n",
       "    <tr>\n",
       "      <th>4</th>\n",
       "      <td>Altitude_2</td>\n",
       "      <td>0.032482</td>\n",
       "      <td>0.103354</td>\n",
       "      <td>0.108422</td>\n",
       "      <td>0.115376</td>\n",
       "    </tr>\n",
       "  </tbody>\n",
       "</table>\n",
       "</div>"
      ],
      "text/plain": [
       "        Altitude  Normalized L1 Loss  Normalized Relative Component Loss  \\\n",
       "0   Low Altitude            0.754842                            1.540118   \n",
       "1  High Altitude            0.048585                            0.123796   \n",
       "2     Altitude_0            0.073792                            0.151197   \n",
       "3     Altitude_1            0.059097                            0.136295   \n",
       "4     Altitude_2            0.032482                            0.103354   \n",
       "\n",
       "       RMSE   relRMSE  \n",
       "0  2.293016  1.549731  \n",
       "1  0.178742  0.147401  \n",
       "2  0.376697  0.256801  \n",
       "3  0.214249  0.164891  \n",
       "4  0.108422  0.115376  "
      ]
     },
     "execution_count": 46,
     "metadata": {},
     "output_type": "execute_result"
    }
   ],
   "source": [
    "results_geodesyNet"
   ]
  },
  {
   "cell_type": "code",
   "execution_count": null,
   "metadata": {},
   "outputs": [],
   "source": []
  }
 ],
 "metadata": {
  "kernelspec": {
   "display_name": "Python 3 (ipykernel)",
   "language": "python",
   "name": "python3"
  },
  "language_info": {
   "codemirror_mode": {
    "name": "ipython",
    "version": 3
   },
   "file_extension": ".py",
   "mimetype": "text/x-python",
   "name": "python",
   "nbconvert_exporter": "python",
   "pygments_lexer": "ipython3",
   "version": "3.9.7"
  }
 },
 "nbformat": 4,
 "nbformat_minor": 4
}
